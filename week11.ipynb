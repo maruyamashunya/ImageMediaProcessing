{
 "cells": [
  {
   "cell_type": "markdown",
   "metadata": {},
   "source": [
    "# 画像メディア工学１１回目\n",
    "## 11. 線形変換\n",
    "### ライブラリの読み込み"
   ]
  },
  {
   "cell_type": "code",
   "execution_count": 1,
   "metadata": {},
   "outputs": [],
   "source": [
    "#%matplotlib inline\n",
    "import matplotlib.pyplot as plt\n",
    "import numpy as np\n",
    "import cv2"
   ]
  },
  {
   "cell_type": "markdown",
   "metadata": {},
   "source": [
    "### 11.1 python (numpy)での行列計算\n",
    "\n",
    "線形変換では行列計算が必要となるが，行列を表すnumpyのクラス (np.matrix)を使うと，行列演算用の変数が作成できる．\n",
    "\n",
    "（ただの２次元配列の場合，```A*B```としても行列積の計算とならないことに注意）\n",
    "\n",
    "例えば，以下の数式を計算する場合，以下の通りで計算できる．\n",
    "$$　\n",
    "\\boldsymbol{X_2} =\n",
    "\\boldsymbol{A}\\boldsymbol{X_1}\n",
    "$$\n",
    "$$\n",
    "\\boldsymbol{A} = \\begin{pmatrix}\n",
    "1 & 2 \\\\\n",
    "3 & 4 \\\\\n",
    "\\end{pmatrix},\n",
    "\\boldsymbol{X} =\n",
    "\\begin{pmatrix}\n",
    "5 \\\\\n",
    "6 \\\\\n",
    "\\end{pmatrix}\n",
    "$$"
   ]
  },
  {
   "cell_type": "code",
   "execution_count": 2,
   "metadata": {},
   "outputs": [
    {
     "name": "stdout",
     "output_type": "stream",
     "text": [
      "[[17]\n",
      " [39]]\n"
     ]
    }
   ],
   "source": [
    "A = np.matrix([[1,2],\n",
    "               [3,4]])\n",
    "X1 = np.matrix([[5],\n",
    "               [6]])\n",
    "X2 = A*X1\n",
    "print(X2)"
   ]
  },
  {
   "cell_type": "markdown",
   "metadata": {},
   "source": [
    "```A.T```すると，転置行列になる．"
   ]
  },
  {
   "cell_type": "code",
   "execution_count": 3,
   "metadata": {},
   "outputs": [
    {
     "name": "stdout",
     "output_type": "stream",
     "text": [
      "[[1 2]\n",
      " [3 4]]\n",
      "[[1 3]\n",
      " [2 4]]\n"
     ]
    }
   ],
   "source": [
    "print(A)\n",
    "print(A.T)"
   ]
  },
  {
   "cell_type": "markdown",
   "metadata": {},
   "source": [
    "np.arrayの場合は，以下のように行列積の計算とはならない．"
   ]
  },
  {
   "cell_type": "code",
   "execution_count": 4,
   "metadata": {},
   "outputs": [
    {
     "name": "stdout",
     "output_type": "stream",
     "text": [
      "[[ 5 10]\n",
      " [18 24]]\n"
     ]
    }
   ],
   "source": [
    "A = np.array([[1,2],\n",
    "               [3,4]])\n",
    "X1 = np.array([[5],\n",
    "               [6]])\n",
    "X2 = A*X1\n",
    "print(X2)"
   ]
  },
  {
   "cell_type": "markdown",
   "metadata": {},
   "source": [
    "### 11.2 線形変換\n",
    "(5,5), (5,10), (8,5), (8,10)の４点を線形変換する場合を考える．"
   ]
  },
  {
   "cell_type": "code",
   "execution_count": 5,
   "metadata": {},
   "outputs": [
    {
     "name": "stdout",
     "output_type": "stream",
     "text": [
      "[[ 5  5  8  8]\n",
      " [ 5 10  5 10]]\n"
     ]
    },
    {
     "data": {
      "text/plain": [
       "matrix([[5, 5, 8, 8]])"
      ]
     },
     "execution_count": 5,
     "metadata": {},
     "output_type": "execute_result"
    },
    {
     "data": {
      "image/png": "[encoded data removed]",
      "text/plain": [
       "<Figure size 432x288 with 1 Axes>"
      ]
     },
     "metadata": {},
     "output_type": "display_data"
    }
   ],
   "source": [
    "# 変換対象の４点\n",
    "X1 = np.matrix([[5, 5,8, 8],\n",
    "                [5,10,5,10]])\n",
    "print(X1)\n",
    "\n",
    "# matplotlibで表示\n",
    "plt.plot(X1[0,:].T,X1[1,:].T,'b*-')\n",
    "plt.axis('scaled')\n",
    "plt.xlim([-20,20]);\n",
    "plt.ylim([0,20]);\n",
    "X1[0,:]"
   ]
  },
  {
   "cell_type": "markdown",
   "metadata": {},
   "source": [
    "線形変換の基本形は，\n",
    "$$\n",
    "\\begin{pmatrix}\n",
    "x' \\\\\n",
    "y' \\\\\n",
    "\\end{pmatrix}=\n",
    "\\begin{pmatrix}\n",
    "a & b \\\\\n",
    "c & d \\\\\n",
    "\\end{pmatrix}\n",
    "\\begin{pmatrix}\n",
    "x \\\\\n",
    "y \\\\\n",
    "\\end{pmatrix}\n",
    "$$\n",
    "$$=\n",
    "\\boldsymbol{A}\n",
    "\\begin{pmatrix}\n",
    "x \\\\\n",
    "y \\\\\n",
    "\\end{pmatrix}\n",
    "$$"
   ]
  },
  {
   "cell_type": "markdown",
   "metadata": {},
   "source": [
    "### 拡大縮小\n",
    "拡大縮小の時の変換行列は，\n",
    "$\n",
    "\\boldsymbol{A} = \\begin{pmatrix}\n",
    "s_x & 0 \\\\\n",
    "0 & s_y \\\\\n",
    "\\end{pmatrix}\n",
    "$"
   ]
  },
  {
   "cell_type": "code",
   "execution_count": 6,
   "metadata": {},
   "outputs": [
    {
     "name": "stdout",
     "output_type": "stream",
     "text": [
      "[[ 7.5  7.5 12.  12. ]\n",
      " [ 7.5 15.   7.5 15. ]]\n"
     ]
    },
    {
     "data": {
      "image/png": "[encoded data removed]",
      "text/plain": [
       "<Figure size 432x288 with 1 Axes>"
      ]
     },
     "metadata": {},
     "output_type": "display_data"
    }
   ],
   "source": [
    "# 変換行列の定義\n",
    "sx = 1.5\n",
    "sy = 1.5\n",
    "A = np.matrix([[sx,0],\n",
    "               [0,sy]])\n",
    "                \n",
    "# ４点の変換\n",
    "X2 = A*X1\n",
    "print(X2)\n",
    "\n",
    "# matplotlibで表示\n",
    "plt.plot(X1[0,:].T,X1[1,:].T,'b*-')\n",
    "plt.plot(X2[0,:].T,X2[1,:].T,'r*-')\n",
    "plt.axis('scaled')\n",
    "plt.xlim([-20,20]);\n",
    "plt.ylim([0,20]);"
   ]
  },
  {
   "cell_type": "markdown",
   "metadata": {},
   "source": [
    "### 回転\n",
    "回転の時の変換行列は，\n",
    "$\n",
    "\\boldsymbol{A} = \\begin{pmatrix}\n",
    "\\cos\\theta & -\\sin\\theta \\\\\n",
    "\\sin\\theta & \\cos\\theta \\\\\n",
    "\\end{pmatrix}\n",
    "$"
   ]
  },
  {
   "cell_type": "code",
   "execution_count": 7,
   "metadata": {},
   "outputs": [
    {
     "name": "stdout",
     "output_type": "stream",
     "text": [
      "[[ 2.41844763  0.30535632  5.13737099  3.02427968]\n",
      " [ 6.64463024 11.17616918  7.91248503 12.44402396]]\n"
     ]
    },
    {
     "data": {
      "image/png": "[encoded data removed]",
      "text/plain": [
       "<Figure size 432x288 with 1 Axes>"
      ]
     },
     "metadata": {},
     "output_type": "display_data"
    }
   ],
   "source": [
    "# 変換行列の定義\n",
    "theta = np.radians(25)\n",
    "A = np.matrix([[np.cos(theta),-np.sin(theta)],\n",
    "               [np.sin(theta),np.cos(theta)]])\n",
    "                \n",
    "# ４点の変換\n",
    "X2 = A*X1\n",
    "print(X2)\n",
    "\n",
    "# matplotlibで表示\n",
    "plt.plot(X1[0,:].T,X1[1,:].T,'b*-')\n",
    "plt.plot(X2[0,:].T,X2[1,:].T,'r*-')\n",
    "plt.axis('scaled')\n",
    "plt.xlim([-20,20]);\n",
    "plt.ylim([0,20]);"
   ]
  },
  {
   "cell_type": "markdown",
   "metadata": {},
   "source": [
    "その他の変換についても，```A```を定義すれば実行できる．"
   ]
  },
  {
   "cell_type": "markdown",
   "metadata": {},
   "source": [
    "### 合成変換\n",
    "鏡映の変換行列を```A```，回転の変換行列を```B```とした場合"
   ]
  },
  {
   "cell_type": "code",
   "execution_count": 8,
   "metadata": {},
   "outputs": [
    {
     "name": "stdout",
     "output_type": "stream",
     "text": [
      "X3:\n",
      "[[ -6.64463024  -8.75772155  -9.3635536  -11.47664491]\n",
      " [  2.41844763   6.94998656   1.15059284   5.68213178]]\n",
      "X3_2:\n",
      "[[ -6.64463024  -8.75772155  -9.3635536  -11.47664491]\n",
      " [  2.41844763   6.94998656   1.15059284   5.68213178]]\n",
      "X4:\n",
      "[[-2.41844763 -0.30535632 -5.13737099 -3.02427968]\n",
      " [ 6.64463024 11.17616918  7.91248503 12.44402396]]\n"
     ]
    },
    {
     "data": {
      "image/png": "[encoded data removed]",
      "text/plain": [
       "<Figure size 432x288 with 1 Axes>"
      ]
     },
     "metadata": {},
     "output_type": "display_data"
    }
   ],
   "source": [
    "# 鏡映（Y軸）の変換行列の定義\n",
    "A = np.matrix([[-1,0],\n",
    "               [0,  1]])\n",
    "\n",
    "# 回転変換行列の定義\n",
    "theta = np.radians(25)\n",
    "B = np.matrix([[np.cos(theta),-np.sin(theta)],\n",
    "               [np.sin(theta),np.cos(theta)]])\n",
    "\n",
    "# 合成変換                \n",
    "C = B*A\n",
    "\n",
    "# 順番を入れ替えた合成変換                \n",
    "D = A*B\n",
    "                \n",
    "# ４点の変換\n",
    "X2 = A*X1\n",
    "X3 = B*X2\n",
    "print(\"X3:\")\n",
    "print(X3)\n",
    "\n",
    "X3_2 = C*X1\n",
    "print(\"X3_2:\")\n",
    "print(X3_2)\n",
    "\n",
    "X4 = D*X1\n",
    "print(\"X4:\")\n",
    "print(X4)\n",
    "\n",
    "# matplotlibで表示\n",
    "plt.plot(X1[0,:].T,X1[1,:].T,'b*-') # 元の点の場所（青:blue）\n",
    "plt.plot(X2[0,:].T,X2[1,:].T,'c*-') # 鏡映（水色:cyan）\n",
    "plt.plot(X3[0,:].T,X3[1,:].T,'r*-') # 鏡映の後に回転（赤:red）\n",
    "plt.plot(X4[0,:].T,X4[1,:].T,'m*-') # 回転の後に鏡映（紫：magenta）\n",
    "plt.axis('scaled')\n",
    "plt.xlim([-20,20]);\n",
    "plt.ylim([0,20]);"
   ]
  },
  {
   "cell_type": "markdown",
   "metadata": {},
   "source": [
    "合成変換を表す行列を計算してから変換しても，同じ結果となっていることが確認できる．"
   ]
  },
  {
   "cell_type": "markdown",
   "metadata": {},
   "source": [
    "### 11.3 画像の線形変換\n",
    "画像に対して線形変換を行う場合は，以下のような処理となる．\n",
    "\n",
    "変換前の画像を以下の通りに作成する．\n",
    "ここでは，それぞれx=20～44，y=5～29の範囲を変換対象の画像部分とする．"
   ]
  },
  {
   "cell_type": "code",
   "execution_count": 20,
   "metadata": {
    "scrolled": true
   },
   "outputs": [
    {
     "data": {
      "text/plain": [
       "<matplotlib.image.AxesImage at 0x244eff63518>"
      ]
     },
     "execution_count": 20,
     "metadata": {},
     "output_type": "execute_result"
    },
    {
     "data": {
      "image/png": "[encoded data removed]",
      "text/plain": [
       "<Figure size 432x288 with 1 Axes>"
      ]
     },
     "metadata": {},
     "output_type": "display_data"
    }
   ],
   "source": [
    "img = np.zeros((100, 100, 3), dtype=np.uint8)\n",
    "\n",
    "# numpyでは，y軸の＋は下方向であることに注意\n",
    "img[ 5:10,20:45,0]=255\n",
    "img[10:15,20:45,0]=255\n",
    "img[10:15,20:45,1]=255\n",
    "img[15:20,20:45,1]=255\n",
    "img[20:25,20:45,1]=255\n",
    "img[20:25,20:45,2]=255\n",
    "img[25:30,20:45,2]=255\n",
    "plt.imshow(img)"
   ]
  },
  {
   "cell_type": "markdown",
   "metadata": {},
   "source": [
    "### 画像の線形変換\n",
    "\n",
    "（theta を大きい場合等，変換結果が画像外になる場合には，結果が変になることに注意）"
   ]
  },
  {
   "cell_type": "code",
   "execution_count": 23,
   "metadata": {},
   "outputs": [
    {
     "data": {
      "text/plain": [
       "<matplotlib.image.AxesImage at 0x244f39d3a20>"
      ]
     },
     "execution_count": 23,
     "metadata": {},
     "output_type": "execute_result"
    },
    {
     "data": {
      "image/png": "[encoded data removed]",
      "text/plain": [
       "<Figure size 432x288 with 1 Axes>"
      ]
     },
     "metadata": {},
     "output_type": "display_data"
    }
   ],
   "source": [
    "# 変換行列の定義\n",
    "theta = np.radians(20)\n",
    "A = np.matrix([[np.cos(theta),-np.sin(theta)],\n",
    "               [np.sin(theta),np.cos(theta)]])\n",
    "\n",
    "# 出力用の画像\n",
    "out = np.zeros((100, 100, 3), dtype=np.uint8) # 出力用画像\n",
    "\n",
    "# 変換したい画像の範囲でループ\n",
    "for y in range(5,29):\n",
    "    for x in range(20,44):\n",
    "        X = np.matrix([[x],[y]])\n",
    "        X2 = A*X # x,yの変換結果の座標\n",
    "        x2 = X2[0,0]\n",
    "        y2 = X2[1,0]        \n",
    "        \n",
    "        # 変換結果の座標に元画像のピクセルを代入 \n",
    "        out[int(y2),int(x2)] = img[y,x] \n",
    "        \n",
    "plt.imshow(out)"
   ]
  },
  {
   "cell_type": "markdown",
   "metadata": {},
   "source": [
    "### 課題\n",
    "画像の線形変換で，ところどころに穴が開いています．\n",
    "\n",
    "なぜこのような画像になるか，その原因を考えて答えてください．\n",
    "（11.3のプログラムを理解してもらえればわかるはずです）\n",
    "\n",
    "ヒント：上の例では回転処理を行っていますが，拡大処理をやってみるとわかりやすいと思います（Aを変更すればよいです）．"
   ]
  },
  {
   "cell_type": "code",
   "execution_count": null,
   "metadata": {},
   "outputs": [],
   "source": []
  }
 ],
 "metadata": {
  "kernelspec": {
   "display_name": "Python [default]",
   "language": "python",
   "name": "python3"
  },
  "language_info": {
   "codemirror_mode": {
    "name": "ipython",
    "version": 3
   },
   "file_extension": ".py",
   "mimetype": "text/x-python",
   "name": "python",
   "nbconvert_exporter": "python",
   "pygments_lexer": "ipython3",
   "version": "3.5.5"
  }
 },
 "nbformat": 4,
 "nbformat_minor": 2
}
