{
 "cells": [
  {
   "cell_type": "markdown",
   "metadata": {},
   "source": [
    "# 画像メディア工学４回目\n",
    "## 4. 領域に基づく濃淡変換\n",
    "### ライブラリの読み込み（おまじない）"
   ]
  },
  {
   "cell_type": "code",
   "execution_count": 1,
   "metadata": {},
   "outputs": [],
   "source": [
    "%matplotlib inline\n",
    "import matplotlib.pyplot as plt\n",
    "import numpy as np\n",
    "import cv2"
   ]
  },
  {
   "cell_type": "markdown",
   "metadata": {},
   "source": [
    "### Google colaboratoryで利用する場合の画像のアップロード\n",
    "Google colaboratoryでは，時間がたつと実行環境がリセットされるため，\n",
    "その時には，画像ファイルのアップロードが必要．"
   ]
  },
  {
   "cell_type": "code",
   "execution_count": 2,
   "metadata": {},
   "outputs": [],
   "source": [
    "#from google.colab import files\n",
    "#uploaded_file = files.upload()"
   ]
  },
  {
   "cell_type": "markdown",
   "metadata": {},
   "source": [
    "### 4.1 Pythonの関数\n",
    "Pythonでの関数の定義などについて，簡単に紹介しておく．\n",
    "\n",
    "使い方はＣ言語と同じで，()の中に入力の引数を指定し戻り値が返る．Pythonの関数では，複数個の戻り値を指定することもできる．\n",
    "\n",
    "（ただし今回の課題では気にしなくてよいです）"
   ]
  },
  {
   "cell_type": "code",
   "execution_count": 3,
   "metadata": {},
   "outputs": [],
   "source": [
    "# 足し算と引き算を計算する関数\n",
    "def add_sub_func(a,b):\n",
    "    return a+b, a-b"
   ]
  },
  {
   "cell_type": "markdown",
   "metadata": {},
   "source": [
    "呼び出すときは，"
   ]
  },
  {
   "cell_type": "code",
   "execution_count": 4,
   "metadata": {},
   "outputs": [
    {
     "name": "stdout",
     "output_type": "stream",
     "text": [
      "add: 8\n",
      "sub: 2\n"
     ]
    }
   ],
   "source": [
    "res1, res2 = add_sub_func(5,3)\n",
    "print (\"add:\", res1)\n",
    "print (\"sub:\", res2)"
   ]
  },
  {
   "cell_type": "markdown",
   "metadata": {},
   "source": [
    "### 4.2 領域に基づく変換"
   ]
  },
  {
   "cell_type": "markdown",
   "metadata": {},
   "source": [
    "### 画像の読み込み"
   ]
  },
  {
   "cell_type": "code",
   "execution_count": 5,
   "metadata": {},
   "outputs": [
    {
     "data": {
      "text/plain": [
       "<matplotlib.image.AxesImage at 0x23d603f0cc0>"
      ]
     },
     "execution_count": 5,
     "metadata": {},
     "output_type": "execute_result"
    },
    {
     "data": {
      "image/png": "[encoded data removed]",
      "text/plain": [
       "<Figure size 432x288 with 1 Axes>"
      ]
     },
     "metadata": {
      "needs_background": "light"
     },
     "output_type": "display_data"
    }
   ],
   "source": [
    "img = cv2.imread('img02.png', 0);  # モノクロ画像として読み込み\n",
    "plt.imshow(img, cmap='gray', vmin = 0, vmax = 255)"
   ]
  },
  {
   "cell_type": "markdown",
   "metadata": {},
   "source": [
    "### 変換用の関数の定義\n",
    "引数：画像 img, フィルタ filter\n",
    "\n",
    "戻り値：変換後の画像"
   ]
  },
  {
   "cell_type": "code",
   "execution_count": 6,
   "metadata": {},
   "outputs": [],
   "source": [
    "def filter_3x3(img, filter):    \n",
    "    \n",
    "    # h: 画像の高さ, w: 画像の幅\n",
    "    h,w = img.shape\n",
    "    \n",
    "    # フィルタ処理後の画像の準備\n",
    "    resimg = np.zeros((h,w))\n",
    "    \n",
    "    # 画像の端はスキップ\n",
    "    for i in range(1,h-1):\n",
    "        for j in range(1,w-1):\n",
    "            \n",
    "            # 画像とフィルタの積和計算\n",
    "            val = 0\n",
    "            for k in range(-1,2):\n",
    "                for l in range(-1,2):\n",
    "                    val += img[i+k,j+l] * filter[k+1,l+1]\n",
    "\n",
    "            # 変換後画像に代入\n",
    "            resimg[i,j] = val\n",
    "    \n",
    "    return resimg"
   ]
  },
  {
   "cell_type": "markdown",
   "metadata": {},
   "source": [
    "フィルタの定義と関数の呼び出し（ここでは単純な平均化フィルタを定義）"
   ]
  },
  {
   "cell_type": "code",
   "execution_count": 7,
   "metadata": {},
   "outputs": [
    {
     "name": "stdout",
     "output_type": "stream",
     "text": [
      "[[0.11111111 0.11111111 0.11111111]\n",
      " [0.11111111 0.11111111 0.11111111]\n",
      " [0.11111111 0.11111111 0.11111111]]\n"
     ]
    }
   ],
   "source": [
    "#filter = np.ones((3,3))/9\n",
    "filter = np.array([[1,1,1],\n",
    "                   [1,1,1],\n",
    "                   [1,1,1]])/9\n",
    "print(filter)\n",
    "\n",
    "resimg = filter_3x3(img, filter)"
   ]
  },
  {
   "cell_type": "markdown",
   "metadata": {},
   "source": [
    "実際にプログラムを書くときには，cv2.filter2D関数を使うと良い．そちらの方が高速に実行できる"
   ]
  },
  {
   "cell_type": "code",
   "execution_count": 8,
   "metadata": {},
   "outputs": [],
   "source": [
    "# resimg = cv2.filter2D(img, -1, filter)"
   ]
  },
  {
   "cell_type": "markdown",
   "metadata": {},
   "source": [
    "### 画像の表示\n",
    "ここでは，入力と変換結果を横並びで描画するために，plt.subplot関数を使用している．\n",
    "\n",
    "plt.subplot(1,2,1)は，描画領域を縦1行，横2列に分割し，1番目に描画せよ，という意味．"
   ]
  },
  {
   "cell_type": "code",
   "execution_count": 9,
   "metadata": {},
   "outputs": [
    {
     "data": {
      "image/png": "[encoded data removed]",
      "text/plain": [
       "<Figure size 432x288 with 2 Axes>"
      ]
     },
     "metadata": {
      "needs_background": "light"
     },
     "output_type": "display_data"
    }
   ],
   "source": [
    "plt.subplot(1,2,1)\n",
    "plt.imshow(img, cmap='gray', vmin = 0, vmax = 255)\n",
    "plt.title(\"Input\")\n",
    "plt.subplot(1,2,2)\n",
    "plt.imshow(resimg, cmap='gray', vmin = 0, vmax = 255)\n",
    "plt.title(\"Result\");"
   ]
  },
  {
   "cell_type": "markdown",
   "metadata": {},
   "source": [
    "### 課題\n",
    "以下のプログラム中のfilter1,filter2を完成させて，ソーベルフィルタが微分と平滑化の組み合わせからなっていることを確認してください。\n",
    "\n",
    "課題としては，filter1, filter2の定義部分を提出してください．"
   ]
  },
  {
   "cell_type": "code",
   "execution_count": 10,
   "metadata": {},
   "outputs": [
    {
     "data": {
      "image/png": "[encoded data removed]",
      "text/plain": [
       "<Figure size 432x288 with 2 Axes>"
      ]
     },
     "metadata": {
      "needs_background": "light"
     },
     "output_type": "display_data"
    }
   ],
   "source": [
    "# 比較用のソーベルフィルタ（横方向）\n",
    "sobelfilter = np.array([[-1,0,1],\n",
    "                        [-2,0,2],\n",
    "                        [-1,0,1]])/8\n",
    "resimg = filter_3x3(img, sobelfilter)\n",
    "\n",
    "##### 提出部分　ここから\n",
    "# 微分フィルタ（横方向）にしてください\n",
    "filter1 = np.array([[0,0,0],\n",
    "                    [0,1,0],\n",
    "                    [0,0,0]])\n",
    "\n",
    "# 平滑化フィルタ（横方向の微分に適したもの）にしてください\n",
    "filter2 = np.array([[0,0,0],\n",
    "                    [0,1,0],                    \n",
    "                    [0,0,0]])\n",
    "##### ここまで\n",
    "\n",
    "resimg1 = filter_3x3(img,     filter1) # 微分フィルタの適用\n",
    "resimg2 = filter_3x3(resimg1, filter2) # 平滑化フィルタの適用\n",
    "\n",
    "# 結果の表示\n",
    "plt.subplot(1,2,1)\n",
    "plt.imshow(resimg, cmap='gray', vmin = -255, vmax = 255)\n",
    "plt.title(\"Sobel\")\n",
    "plt.subplot(1,2,2)\n",
    "plt.imshow(resimg2, cmap='gray', vmin = -255, vmax = 255)\n",
    "plt.title(\"Result\");"
   ]
  },
  {
   "cell_type": "code",
   "execution_count": null,
   "metadata": {},
   "outputs": [],
   "source": []
  }
 ],
 "metadata": {
  "kernelspec": {
   "display_name": "Python [default]",
   "language": "python",
   "name": "python3"
  },
  "language_info": {
   "codemirror_mode": {
    "name": "ipython",
    "version": 3
   },
   "file_extension": ".py",
   "mimetype": "text/x-python",
   "name": "python",
   "nbconvert_exporter": "python",
   "pygments_lexer": "ipython3",
   "version": "3.5.5"
  }
 },
 "nbformat": 4,
 "nbformat_minor": 2
}
