{
 "cells": [
  {
   "cell_type": "markdown",
   "metadata": {},
   "source": [
    "# 画像メディア工学３回目\n",
    "## 3. トーンカーブを利用した画像の変換\n",
    "### ライブラリの読み込み（おまじない）"
   ]
  },
  {
   "cell_type": "code",
   "execution_count": 1,
   "metadata": {},
   "outputs": [],
   "source": [
    "%matplotlib inline\n",
    "import matplotlib.pyplot as plt\n",
    "import numpy as np\n",
    "import cv2"
   ]
  },
  {
   "cell_type": "markdown",
   "metadata": {},
   "source": [
    "### Google colaboratoryで利用する場合の画像のアップロード\n",
    "Google colaboratoryでは，時間がたつと実行環境がリセットされるため，\n",
    "その時には，画像ファイルのアップロードが必要．"
   ]
  },
  {
   "cell_type": "code",
   "execution_count": 2,
   "metadata": {},
   "outputs": [],
   "source": [
    "from google.colab import files\n",
    "uploaded_file = files.upload()"
   ]
  },
  {
   "cell_type": "markdown",
   "metadata": {},
   "source": [
    "### 3.1 Pythonの配列の要素へのアクセス（スライス）\n",
    "以下で利用する，Pythonでの配列の要素へのアクセスについて，簡単に紹介しておく．\n",
    "\n",
    "Pythonでは，配列の一部分へのアクセスが容易にできる．"
   ]
  },
  {
   "cell_type": "code",
   "execution_count": 24,
   "metadata": {},
   "outputs": [
    {
     "name": "stdout",
     "output_type": "stream",
     "text": [
      "B\n",
      "ABC\n",
      "ABC\n",
      "DEFGHIJ\n",
      "IJ\n",
      "BDF\n"
     ]
    }
   ],
   "source": [
    "arr = \"ABCDEFGHIJ\"\n",
    "print(arr[1])     # 1番目の要素\n",
    "print(arr[0:3])   # 0番目～3未満(=2番目)まで\n",
    "print(arr[:3])    # 先頭～2番目まで\n",
    "print(arr[3:])    # 3番目～最後まで\n",
    "print(arr[-2:])   # 最後から２番目～最後まで\n",
    "print(arr[1:6:2]) # 1番目～5番目まで2つごと"
   ]
  },
  {
   "cell_type": "markdown",
   "metadata": {},
   "source": [
    "numpyの配列でも同じようにアクセスできる．"
   ]
  },
  {
   "cell_type": "code",
   "execution_count": 27,
   "metadata": {},
   "outputs": [
    {
     "name": "stdout",
     "output_type": "stream",
     "text": [
      "8\n",
      "[9 8 7]\n",
      "[9 8 7]\n",
      "[6 5 4 3 2 1 0]\n",
      "[1 0]\n",
      "[8 6 4]\n"
     ]
    }
   ],
   "source": [
    "num = np.array([9,8,7,6,5,4,3,2,1,0])\n",
    "print(num[1])\n",
    "print(num[0:3])\n",
    "print(num[:3])\n",
    "print(num[3:])\n",
    "print(num[-2:])\n",
    "print(num[1:6:2])"
   ]
  },
  {
   "cell_type": "markdown",
   "metadata": {},
   "source": [
    "スライスを利用して，配列の一部のみへの代入もできる"
   ]
  },
  {
   "cell_type": "code",
   "execution_count": null,
   "metadata": {},
   "outputs": [],
   "source": [
    "num = np.array([9,8,7,6,5,4,3,2,1,0])\n",
    "num[1:6:2]=0\n",
    "print(num)"
   ]
  },
  {
   "cell_type": "markdown",
   "metadata": {},
   "source": [
    "配列の添え字として，配列を利用できて，\n",
    "$2\\times3$の配列を配列の添え字とすると，結果も$2\\times3$の配列になる．"
   ]
  },
  {
   "cell_type": "code",
   "execution_count": 28,
   "metadata": {},
   "outputs": [
    {
     "name": "stdout",
     "output_type": "stream",
     "text": [
      "[[9 8 7]\n",
      " [4 5 6]]\n"
     ]
    }
   ],
   "source": [
    "idx = np.array([[0,1,2],\n",
    "                [5,4,3]])\n",
    "print( num[idx] )"
   ]
  },
  {
   "cell_type": "markdown",
   "metadata": {},
   "source": [
    "### 3.2 ガンマ変換"
   ]
  },
  {
   "cell_type": "markdown",
   "metadata": {},
   "source": [
    "### 画像の読み込み"
   ]
  },
  {
   "cell_type": "code",
   "execution_count": 6,
   "metadata": {},
   "outputs": [],
   "source": [
    "img = cv2.imread('img01.png', 0);  # モノクロ画像として読み込み\n",
    "#plt.imshow(img, cmap='gray', vmin = 0, vmax = 255)"
   ]
  },
  {
   "cell_type": "markdown",
   "metadata": {},
   "source": [
    "### トーンカーブ用の配列準備"
   ]
  },
  {
   "cell_type": "code",
   "execution_count": 30,
   "metadata": {},
   "outputs": [
    {
     "name": "stdout",
     "output_type": "stream",
     "text": [
      "[  0   1   2   3   4   5   6   7   8   9  10  11  12  13  14  15  16  17\n",
      "  18  19  20  21  22  23  24  25  26  27  28  29  30  31  32  33  34  35\n",
      "  36  37  38  39  40  41  42  43  44  45  46  47  48  49  50  51  52  53\n",
      "  54  55  56  57  58  59  60  61  62  63  64  65  66  67  68  69  70  71\n",
      "  72  73  74  75  76  77  78  79  80  81  82  83  84  85  86  87  88  89\n",
      "  90  91  92  93  94  95  96  97  98  99 100 101 102 103 104 105 106 107\n",
      " 108 109 110 111 112 113 114 115 116 117 118 119 120 121 122 123 124 125\n",
      " 126 127 128 129 130 131 132 133 134 135 136 137 138 139 140 141 142 143\n",
      " 144 145 146 147 148 149 150 151 152 153 154 155 156 157 158 159 160 161\n",
      " 162 163 164 165 166 167 168 169 170 171 172 173 174 175 176 177 178 179\n",
      " 180 181 182 183 184 185 186 187 188 189 190 191 192 193 194 195 196 197\n",
      " 198 199 200 201 202 203 204 205 206 207 208 209 210 211 212 213 214 215\n",
      " 216 217 218 219 220 221 222 223 224 225 226 227 228 229 230 231 232 233\n",
      " 234 235 236 237 238 239 240 241 242 243 244 245 246 247 248 249 250 251\n",
      " 252 253 254 255]\n"
     ]
    }
   ],
   "source": [
    "in_val = np.array(range(256)) # 0～256未満(=255_)までの配列\n",
    "#print(in_val)"
   ]
  },
  {
   "cell_type": "markdown",
   "metadata": {},
   "source": [
    "### ガンマ変換のトーンカーブの作成とトーンカーブのグラフ描画\n",
    "int_valは要素数256の配列なので，out_valも要素数256の配列になる．\n",
    "$$out\\_val = 255 * \\frac{[0,1,2,...,254,255]}{255}^{\\frac{1}{\\gamma}}$$\n",
    "\n",
    "out_val[10]は入力画素値が10の時に，出力画素値がいくらになるかを表す配列．"
   ]
  },
  {
   "cell_type": "code",
   "execution_count": 31,
   "metadata": {},
   "outputs": [
    {
     "data": {
      "text/plain": [
       "[<matplotlib.lines.Line2D at 0x21e8e37eac8>]"
      ]
     },
     "execution_count": 31,
     "metadata": {},
     "output_type": "execute_result"
    },
    {
     "data": {
      "image/png": "[encoded data removed]",
      "text/plain": [
       "<Figure size 432x288 with 1 Axes>"
      ]
     },
     "metadata": {},
     "output_type": "display_data"
    }
   ],
   "source": [
    "gamma = 1.5\n",
    "out_val = 255 * (in_val/255)**(1/gamma) # ** はべき乗\n",
    "#print(out_val)\n",
    "plt.plot(in_val, out_val)"
   ]
  },
  {
   "cell_type": "markdown",
   "metadata": {},
   "source": [
    "### ガンマ変換\n",
    "まず，出力用の画像を作成．サイズは入力画像と同じ．\n",
    "\n",
    "img.shapeは，画像（配列）の形状を返す"
   ]
  },
  {
   "cell_type": "code",
   "execution_count": 9,
   "metadata": {},
   "outputs": [
    {
     "name": "stdout",
     "output_type": "stream",
     "text": [
      "(624, 416)\n"
     ]
    }
   ],
   "source": [
    "img2 = np.zeros(img.shape)\n",
    "print(img.shape)"
   ]
  },
  {
   "cell_type": "markdown",
   "metadata": {},
   "source": [
    "for文を使って，画素ごとにガンマ変換を計算．\n",
    "\n",
    "for i in range(5): は，for(i=0; i<5; i++){ と同じ意味．\n",
    "\n",
    "for文の内部（繰り返し部分）はインデントで表されるため，Pythonではインデントが重要．"
   ]
  },
  {
   "cell_type": "code",
   "execution_count": 10,
   "metadata": {},
   "outputs": [],
   "source": [
    "for i in range(img.shape[0]):\n",
    "    for j in range(img.shape[1]):\n",
    "        img2[i,j] = int( 255 * (img[i,j]/255)**(1/gamma) )    "
   ]
  },
  {
   "cell_type": "markdown",
   "metadata": {},
   "source": [
    "ただし，for文を使って繰り返し計算すると時間がかかる．\n",
    "\n",
    "3.1節で説明したように，配列の添え字として配列が利用できることを踏まえると，以下のように書ける（こちらの方が高速）"
   ]
  },
  {
   "cell_type": "code",
   "execution_count": 11,
   "metadata": {},
   "outputs": [],
   "source": [
    "img2 = out_val[img] # 元画像をout_valの添え字として，元画像と同じサイズの配列が出力\n",
    "img2 = img2.astype(np.uint8) # uint型に変換"
   ]
  },
  {
   "cell_type": "markdown",
   "metadata": {},
   "source": [
    "### 変換結果を描画"
   ]
  },
  {
   "cell_type": "code",
   "execution_count": 12,
   "metadata": {},
   "outputs": [
    {
     "data": {
      "text/plain": [
       "<matplotlib.image.AxesImage at 0x21e8c3e4400>"
      ]
     },
     "execution_count": 12,
     "metadata": {},
     "output_type": "execute_result"
    },
    {
     "data": {
      "image/png": "[encoded data removed]",
      "text/plain": [
       "<Figure size 432x288 with 1 Axes>"
      ]
     },
     "metadata": {},
     "output_type": "display_data"
    }
   ],
   "source": [
    "plt.imshow(img2, cmap='gray', vmin = 0, vmax = 255)"
   ]
  },
  {
   "cell_type": "markdown",
   "metadata": {},
   "source": [
    "### 変換前後のヒストグラムの描画\n",
    "変換前"
   ]
  },
  {
   "cell_type": "code",
   "execution_count": 13,
   "metadata": {},
   "outputs": [
    {
     "data": {
      "text/plain": [
       "(array([85078., 37444., 63230., 21002., 12923., 15366.,  9487.,  3195.,\n",
       "         2043.,  2360.,  7456.,     0.,     0.,     0.,     0.,     0.,\n",
       "            0.,     0.,     0.,     0.,     0.,     0.,     0.,     0.,\n",
       "            0.]),\n",
       " array([  0. ,  10.2,  20.4,  30.6,  40.8,  51. ,  61.2,  71.4,  81.6,\n",
       "         91.8, 102. , 112.2, 122.4, 132.6, 142.8, 153. , 163.2, 173.4,\n",
       "        183.6, 193.8, 204. , 214.2, 224.4, 234.6, 244.8, 255. ]),\n",
       " <a list of 25 Patch objects>)"
      ]
     },
     "execution_count": 13,
     "metadata": {},
     "output_type": "execute_result"
    },
    {
     "data": {
      "image/png": "[encoded data removed]",
      "text/plain": [
       "<Figure size 432x288 with 1 Axes>"
      ]
     },
     "metadata": {},
     "output_type": "display_data"
    }
   ],
   "source": [
    "plt.hist(img.ravel(), color='red', bins=25,  range=(0, 255))"
   ]
  },
  {
   "cell_type": "markdown",
   "metadata": {},
   "source": [
    "変換後　（最後にセミコロンを付けると，余計な出力を抑制できる）"
   ]
  },
  {
   "cell_type": "code",
   "execution_count": 14,
   "metadata": {},
   "outputs": [
    {
     "data": {
      "image/png": "[encoded data removed]",
      "text/plain": [
       "<Figure size 432x288 with 1 Axes>"
      ]
     },
     "metadata": {},
     "output_type": "display_data"
    }
   ],
   "source": [
    "plt.hist(img2.ravel(), bins=25,  range=(0, 255));"
   ]
  },
  {
   "cell_type": "markdown",
   "metadata": {},
   "source": [
    "### 3.3 折れ線トーンカーブ\n",
    "トーンカーブを指定する配列out_valの値を折れ線トーンカーブ用に変更すると，折れ線トーンカーブによる変換も可能．"
   ]
  },
  {
   "cell_type": "code",
   "execution_count": 15,
   "metadata": {},
   "outputs": [
    {
     "data": {
      "text/plain": [
       "[<matplotlib.lines.Line2D at 0x21e8e179e48>]"
      ]
     },
     "execution_count": 15,
     "metadata": {},
     "output_type": "execute_result"
    },
    {
     "data": {
      "image/png": "[encoded data removed]",
      "text/plain": [
       "<Figure size 432x288 with 1 Axes>"
      ]
     },
     "metadata": {},
     "output_type": "display_data"
    }
   ],
   "source": [
    "for i in range(256):\n",
    "    if i<100:\n",
    "        out_val[i] = np.array(i)/100*255\n",
    "    else:\n",
    "        out_val[i] = 255\n",
    "\n",
    "plt.plot(in_val, out_val)                "
   ]
  },
  {
   "cell_type": "markdown",
   "metadata": {},
   "source": [
    "スライスを利用してfor文などの繰り返しを使わずにout_valを定義し，\n",
    "その処理を提出してください．\n",
    "\n",
    "結果は上のグラフと同じになります．"
   ]
  },
  {
   "cell_type": "code",
   "execution_count": 16,
   "metadata": {},
   "outputs": [
    {
     "data": {
      "text/plain": [
       "[<matplotlib.lines.Line2D at 0x21e8e1b1cc0>]"
      ]
     },
     "execution_count": 16,
     "metadata": {},
     "output_type": "execute_result"
    },
    {
     "data": {
      "image/png": "[encoded data removed]",
      "text/plain": [
       "<Figure size 432x288 with 1 Axes>"
      ]
     },
     "metadata": {},
     "output_type": "display_data"
    }
   ],
   "source": [
    "out_val[0] = 1\n",
    "out_val[1] = 2\n",
    "\n",
    "plt.plot(in_val, out_val)                "
   ]
  },
  {
   "cell_type": "code",
   "execution_count": null,
   "metadata": {},
   "outputs": [],
   "source": []
  }
 ],
 "metadata": {
  "kernelspec": {
   "display_name": "Python [default]",
   "language": "python",
   "name": "python3"
  },
  "language_info": {
   "codemirror_mode": {
    "name": "ipython",
    "version": 3
   },
   "file_extension": ".py",
   "mimetype": "text/x-python",
   "name": "python",
   "nbconvert_exporter": "python",
   "pygments_lexer": "ipython3",
   "version": "3.5.5"
  }
 },
 "nbformat": 4,
 "nbformat_minor": 2
}
