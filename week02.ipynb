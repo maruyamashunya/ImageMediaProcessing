{
  "nbformat": 4,
  "nbformat_minor": 0,
  "metadata": {
    "kernelspec": {
      "display_name": "Python [default]",
      "language": "python",
      "name": "python3"
    },
    "language_info": {
      "codemirror_mode": {
        "name": "ipython",
        "version": 3
      },
      "file_extension": ".py",
      "mimetype": "text/x-python",
      "name": "python",
      "nbconvert_exporter": "python",
      "pygments_lexer": "ipython3",
      "version": "3.5.5"
    },
    "colab": {
      "provenance": [],
      "collapsed_sections": [],
      "toc_visible": true
    }
  },
  "cells": [
    {
      "cell_type": "markdown",
      "metadata": {
        "id": "HDcf3wZjBoux"
      },
      "source": [
        "# 画像メディア工学２回目"
      ]
    },
    {
      "cell_type": "markdown",
      "metadata": {
        "id": "aL-5kYdbr17v"
      },
      "source": [
        "## 2. Pythonの基礎（条件分岐・繰り返しと配列操作）\n",
        "ライブラリの読み込み（おまじない）"
      ]
    },
    {
      "cell_type": "code",
      "metadata": {
        "id": "S78K4ee4Bou0"
      },
      "source": [
        "import matplotlib.pyplot as plt\n",
        "import numpy as np\n",
        "import cv2"
      ],
      "execution_count": 1,
      "outputs": []
    },
    {
      "cell_type": "markdown",
      "metadata": {
        "id": "5f3kVbite5-V"
      },
      "source": [
        "### 2.1 演算子と型変換\n",
        "四則演算や，商と余りは以下のように計算できる．"
      ]
    },
    {
      "cell_type": "code",
      "metadata": {
        "colab": {
          "base_uri": "https://localhost:8080/"
        },
        "id": "EZo-ZAOje6XV",
        "outputId": "448f34a2-542e-4e1b-8664-31d05f143d62"
      },
      "source": [
        "print(1+2)\n",
        "print(1-2)\n",
        "print(1*2)\n",
        "print(1/2)\n",
        "\n",
        "print(16//5)\n",
        "print(16%5)"
      ],
      "execution_count": 2,
      "outputs": [
        {
          "output_type": "stream",
          "name": "stdout",
          "text": [
            "3\n",
            "-1\n",
            "2\n",
            "0.5\n",
            "3\n",
            "1\n"
          ]
        }
      ]
    },
    {
      "cell_type": "markdown",
      "metadata": {
        "id": "LmZF-S6Jqz74"
      },
      "source": [
        "整数型への変換は``int()``を利用する．"
      ]
    },
    {
      "cell_type": "code",
      "metadata": {
        "colab": {
          "base_uri": "https://localhost:8080/"
        },
        "id": "7ZIYROl9q1Ko",
        "outputId": "13884b65-dd5e-4f71-cbb9-93c2630fec3f"
      },
      "source": [
        "print(10/4)\n",
        "print(int(10/4))"
      ],
      "execution_count": 3,
      "outputs": [
        {
          "output_type": "stream",
          "name": "stdout",
          "text": [
            "2.5\n",
            "2\n"
          ]
        }
      ]
    },
    {
      "cell_type": "markdown",
      "metadata": {
        "id": "JGcrAEG8sAt1"
      },
      "source": [
        "今回の課題では使わないが，文字列の掛け算で繰り返しの文字列が作成できる．\n",
        "\n",
        "（詳細は説明しませんが，文字列についてはC言語よりも便利な部分が多くあると思います）"
      ]
    },
    {
      "cell_type": "code",
      "metadata": {
        "colab": {
          "base_uri": "https://localhost:8080/"
        },
        "id": "ZP341oZssHv-",
        "outputId": "4947e93b-7726-4fd1-b148-df3d4fbaf33a"
      },
      "source": [
        "str1 = \"123\"*3\n",
        "str2 = \"abcde\"\n",
        "print(str1+str2)"
      ],
      "execution_count": 4,
      "outputs": [
        {
          "output_type": "stream",
          "name": "stdout",
          "text": [
            "123123123abcde\n"
          ]
        }
      ]
    },
    {
      "cell_type": "markdown",
      "metadata": {
        "id": "OxjkAqaeBou1"
      },
      "source": [
        "### 2.2 条件分岐\n",
        "C言語などと同様に条件分岐には``if``文を用いる．"
      ]
    },
    {
      "cell_type": "code",
      "metadata": {
        "colab": {
          "base_uri": "https://localhost:8080/"
        },
        "id": "mcoIZYnEBou2",
        "outputId": "928054c0-4d62-47b4-efc5-430a9ea82b89"
      },
      "source": [
        "a = -1\n",
        "\n",
        "if a < 0:\n",
        "  print(\"aは負の数\")\n",
        "elif a%2 == 1:\n",
        "  print(\"aは奇数\")\n",
        "else:\n",
        "  print(\"aは偶数\")\n"
      ],
      "execution_count": 5,
      "outputs": [
        {
          "output_type": "stream",
          "name": "stdout",
          "text": [
            "aは負の数\n"
          ]
        }
      ]
    },
    {
      "cell_type": "markdown",
      "metadata": {
        "id": "BWgg0HeMTtOh"
      },
      "source": [
        "pythonでは，複数の条件を指定する際に，``if 4 <= month and month <= 9:``といった書き方以外に，``4 <= month <= 9:``といった数学的な表記も可能．"
      ]
    },
    {
      "cell_type": "code",
      "metadata": {
        "colab": {
          "base_uri": "https://localhost:8080/"
        },
        "id": "_JpGWFg6Tsg3",
        "outputId": "69e0a5f3-4644-413b-9552-04b7a37f6bfc"
      },
      "source": [
        "month = 5\n",
        "\n",
        "# if 4 <= month and month <= 9:\n",
        "if 4 <= month <= 9:\n",
        "  print(\"前期\")\n",
        "else:\n",
        "  print(\"後期\")"
      ],
      "execution_count": 6,
      "outputs": [
        {
          "output_type": "stream",
          "name": "stdout",
          "text": [
            "前期\n"
          ]
        }
      ]
    },
    {
      "cell_type": "markdown",
      "metadata": {
        "id": "T9OtgLlCXWVE"
      },
      "source": [
        "## 2.3 繰り返し\n",
        "繰り返しとして，``for``文と``while``文がある．\n",
        "\n",
        "``for``文はC言語などとは少し異なり，ある条件を満たすまでといった繰り返しではない．``in``の後ろから一つずつ要素を取り出し，``in``の前の変数に代入していくイメージ．下の例では，配列``[\"ptrhon\", \"C\", \"Java\"]``から順に要素を取り出し表示している．"
      ]
    },
    {
      "cell_type": "code",
      "metadata": {
        "colab": {
          "base_uri": "https://localhost:8080/"
        },
        "id": "pZ1qSIdmXWVJ",
        "outputId": "258ac34d-f44b-4429-b0eb-e7059c639682"
      },
      "source": [
        "for lang in [\"ptrhon\", \"C\", \"Java\"]:\n",
        "  print(lang)"
      ],
      "execution_count": 7,
      "outputs": [
        {
          "output_type": "stream",
          "name": "stdout",
          "text": [
            "ptrhon\n",
            "C\n",
            "Java\n"
          ]
        }
      ]
    },
    {
      "cell_type": "markdown",
      "metadata": {
        "id": "LntmXD9mXWVJ"
      },
      "source": [
        "0から4まで5回繰り返しといった繰り返しも可能で，``range()``関数を利用する．5は含まないことに注意．"
      ]
    },
    {
      "cell_type": "code",
      "metadata": {
        "colab": {
          "base_uri": "https://localhost:8080/"
        },
        "id": "vQqrtVpTXWVJ",
        "outputId": "d2d282de-c6af-4c38-e156-ec595a5bfe4b"
      },
      "source": [
        "for i in range(5):\n",
        "  print(i)"
      ],
      "execution_count": 8,
      "outputs": [
        {
          "output_type": "stream",
          "name": "stdout",
          "text": [
            "0\n",
            "1\n",
            "2\n",
            "3\n",
            "4\n"
          ]
        }
      ]
    },
    {
      "cell_type": "markdown",
      "metadata": {
        "id": "MOkV7h1UgQu8"
      },
      "source": [
        "10から30まで5ずつ増加，といった繰り返しも可能．こちらも30は含まない．"
      ]
    },
    {
      "cell_type": "code",
      "metadata": {
        "colab": {
          "base_uri": "https://localhost:8080/"
        },
        "id": "A1uHa6ppY56V",
        "outputId": "b9df7f5b-b440-47c6-d3ad-918ff5d273be"
      },
      "source": [
        "for i in range(10,30,5):\n",
        "  print(i)"
      ],
      "execution_count": 9,
      "outputs": [
        {
          "output_type": "stream",
          "name": "stdout",
          "text": [
            "10\n",
            "15\n",
            "20\n",
            "25\n"
          ]
        }
      ]
    },
    {
      "cell_type": "markdown",
      "metadata": {
        "id": "H1dclkSzhYRj"
      },
      "source": [
        "``while``文はC言語などと使い方は同じ．"
      ]
    },
    {
      "cell_type": "code",
      "metadata": {
        "colab": {
          "base_uri": "https://localhost:8080/"
        },
        "id": "qiVMPnclgmOs",
        "outputId": "f46aeb19-2e21-43f0-dc96-3b16fcbf15a4"
      },
      "source": [
        "i = 0\n",
        "while i<5:\n",
        "  print(i)\n",
        "  i+=1"
      ],
      "execution_count": 10,
      "outputs": [
        {
          "output_type": "stream",
          "name": "stdout",
          "text": [
            "0\n",
            "1\n",
            "2\n",
            "3\n",
            "4\n"
          ]
        }
      ]
    },
    {
      "cell_type": "markdown",
      "metadata": {
        "id": "_RnV8uUf-cqz"
      },
      "source": [
        "## 2.4 配列操作\n",
        "画像は２次元配列や３次元配列として扱われることが多い．\n",
        "\n",
        "pythonの配列としてリストもあるが，画像を表す配列としてはnumpyの配列が良く用いられるため，以降，numpyの配列のことを「配列」と呼ぶこととする（リストは利用しない）．"
      ]
    },
    {
      "cell_type": "code",
      "metadata": {
        "colab": {
          "base_uri": "https://localhost:8080/"
        },
        "id": "mjAuZRqAvXGf",
        "outputId": "e4be35b6-2739-4880-b05a-f3b2a871d060"
      },
      "source": [
        "# リスト この演習では利用しない\n",
        "arr0 = [[1,2,3,4,5],[6,7,8,9,10]]\n",
        "print(arr0)\n",
        "\n",
        "# numpyの配列　この演習では，こちらを「配列」と呼ぶ\n",
        "arr = np.array([[1,2,3,4,5],[6,7,8,9,10]])\n",
        "print(arr)"
      ],
      "execution_count": 11,
      "outputs": [
        {
          "output_type": "stream",
          "name": "stdout",
          "text": [
            "[[1, 2, 3, 4, 5], [6, 7, 8, 9, 10]]\n",
            "[[ 1  2  3  4  5]\n",
            " [ 6  7  8  9 10]]\n"
          ]
        }
      ]
    },
    {
      "cell_type": "markdown",
      "metadata": {
        "id": "fNgA--jQw8tI"
      },
      "source": [
        "配列へのアクセスは，1か所だけ指定する方法以外に，範囲指定などの様々な方法が存在する．"
      ]
    },
    {
      "cell_type": "code",
      "metadata": {
        "colab": {
          "base_uri": "https://localhost:8080/"
        },
        "id": "Nwd46TJyxTFt",
        "outputId": "0c3bfdc0-c8a4-4213-893a-db15534d3613"
      },
      "source": [
        "print(arr[0, 1])\n",
        "print(arr[0, 0:3])  # 0～2番目まで（3番目は含まない）\n",
        "print(arr[0, :3])   # 最初からの場合は前の数字は省略してもよい\n",
        "print(arr[0, 3:5])  # 3～4番目まで（5番目は含まない）\n",
        "print(arr[0, 3:])   # 最後までの場合は後ろの数字は省略してもよい"
      ],
      "execution_count": 12,
      "outputs": [
        {
          "output_type": "stream",
          "name": "stdout",
          "text": [
            "2\n",
            "[1 2 3]\n",
            "[1 2 3]\n",
            "[4 5]\n",
            "[4 5]\n"
          ]
        }
      ]
    },
    {
      "cell_type": "markdown",
      "metadata": {
        "id": "f7C0Ts3ZxS1o"
      },
      "source": [
        "2つおきにアクセス，後ろから２番目にアクセスといったこともできる．"
      ]
    },
    {
      "cell_type": "code",
      "metadata": {
        "id": "HrdnBiCd1k6y",
        "colab": {
          "base_uri": "https://localhost:8080/"
        },
        "outputId": "289ba2d9-5a5d-45a9-ab65-5667c31f3508"
      },
      "source": [
        "print(arr[0, 0:5:2])  # 0～4番目まで２つおき\n",
        "\n",
        "print(arr[0, -1])     # 後ろから1番目\n",
        "print(arr[0, -2])     # 後ろから2番目"
      ],
      "execution_count": 13,
      "outputs": [
        {
          "output_type": "stream",
          "name": "stdout",
          "text": [
            "[1 3 5]\n",
            "5\n",
            "4\n"
          ]
        }
      ]
    },
    {
      "cell_type": "markdown",
      "metadata": {
        "id": "UdUzEvEZh8qa"
      },
      "source": [
        "# 課題\n",
        "以下の画像を作成するプログラムを完成させてください．\n",
        "画像サイズ$255\\times255$の真っ黒の画像作成部分は準備されていますので，「# ここに処理を書いてください」のところに，適切な処理を追加してください．\n",
        "\n",
        "※ 注意：``for``文や配列操作を使ってください．\n",
        "\n",
        "**問題１は提出必須とします**．問題２，３は少し難しいと思いますので，提出必須とはしません．できた人だけ提出してください．また提出は，追加部分のみとしてください．\n",
        "\n"
      ]
    },
    {
      "cell_type": "markdown",
      "source": [
        "#### 例題\n",
        "![image.png](data:image/png;base64,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)\n",
        "\n",
        "この場合は，以下の部分を提出してください．\n",
        "\n",
        "```\n",
        "for i in range(255):\n",
        "  img_ex[i,i,0] = 255\n",
        "```"
      ],
      "metadata": {
        "id": "qWs5VDUuRB0M"
      }
    },
    {
      "cell_type": "code",
      "metadata": {
        "colab": {
          "base_uri": "https://localhost:8080/",
          "height": 287
        },
        "id": "QtD1EyEmhqY7",
        "outputId": "4c1fcf88-fbf0-4455-a25a-fb3a725ae573"
      },
      "source": [
        "img_ex = np.zeros((255, 255, 3), dtype=np.uint8)\n",
        "\n",
        "for i in range(255):\n",
        "  img_ex[i,i,0] = 255\n",
        "\n",
        "plt.imshow(img_ex)"
      ],
      "execution_count": 14,
      "outputs": [
        {
          "output_type": "execute_result",
          "data": {
            "text/plain": [
              "<matplotlib.image.AxesImage at 0x7f4b86db9250>"
            ]
          },
          "metadata": {},
          "execution_count": 14
        },
        {
          "output_type": "display_data",
          "data": {
            "text/plain": [
              "<Figure size 432x288 with 1 Axes>"
            ],
            "image/png": "[encoded data removed]"
          },
          "metadata": {
            "needs_background": "light"
          }
        }
      ]
    },
    {
      "cell_type": "markdown",
      "source": [
        "#### 問題１\n",
        "線の色は黄色です\n",
        "\n",
        "![image.png](data:image/png;base64,iVBORw0KGgoAAAANSUhEUgAAAQcAAAEICAYAAABS/TFyAAAYLElEQVR4nO3de3BU9d3H8TeVbriKQSCEEEiIMbC7z4x1Imhl0NbWAk9brEUEVEDR0Bapl4qD1bba6dNRWrXoY1EEVCAkUBXFR2kFlFGxamutqGC4GQXkotzvGLvPH7+zZglZspvs2d85u5/XzHeyOXuy+2UJX3638zsgIiIiIiIiIiIiIiIiIiIiImJXLfAd20k0IQA8ick1AlxoNx2J9TXbCUjWew24EthmOxE5nopDdhgHrATuB/YAG4FvOsc3ATuAsTHn/zfwDrDPef7OBq83BvgY2An8iuNbKV8DpgAbnOcXAp3j5HUM+BOmQHzZ3D+cuEPFIXsMAFYBpwPzgWrgHOAMzP/c/wt0cM49iCkAp2EKxU+BS5zngsCfgSuAfKATUBDzPpOccy8AegC7gYdc+jOJSDPE/m8+DlgX89x/Yfr4eTHHdgJnxXmtP2FaHQC/BqpinmuHaQFE32sNcFHM8/nAF0DrJvLdjMYcPKWpvzDJHNtjHh+OcyzachgA3A2EMYOGOcBfnOd6YLoaUYcwhSWqN7AI+E/MsS8xhWhL89OXdFO3QhozH1gMFGK6DQ8DrZzntgI9Y85ti+mqRG0ChmC6JNFogwqD76g4SGM6AruAI0B/YHTMc08CP8AMaAYwg5WtYp5/GPgfTAsCoCsw7CTvlYMpHjiv16bB64klKg7SmJ8BvwX2Y8YYFsY89wFm0LEa04o4gJntOOo8Pw3T6njR+fk3MN2UeGowXZoC4G/O494nOV9EfKIDUAcU205EROz7AWaWoj2mG/EO6gqICDATs5hqL7AcKLObjvjNYEx/cj1mxZyICKdgls/2wYxAv4tZWSciPuHWIqj+mBbDRuf7asx01uo450dcykMk67VuDWeeCatX8zlmajkhbk1lFnD8KrrNHL/+HqAC+KcTIuKC0lKYORO2mWteP07mZ20un57hBKjlIJJy4TCMGAG//S3s2pX8z7vVctiCWXob1RMtnxVJm9JSGDkS5s+HjRubPj+dWmPGG4qpH5AMneT8iEKhSE107kxk3jwixcUnPJdUF96tbkUdcD1mOewpwGzMslsRcVEgAMuWwbe+BXv3tuy1vLKqLWI7ARG/69YNFi+GgQOhrq7RU94GyhN9Pe3nIJIByspg8mT4/vfjFoakqTiI+FwoZGYl7r4bPv88da+rS7ZFfKxPH7jiCqiqgvXrbWfjDusjvAqF3+K004gsXEikqCjhn/HEbIWIuCgnB1asgEGDYN8+d95D3QoRn+neHZYvh/Jy9woDqOUg4iv9+sHPfw6XXpq6WYl4VBxEfCIchuHD4b77YMcO999P3QoRHygqgiuvhOpqWLeu6fMzifWRX4XCq9GxI5FFi4j06tXi19JshUimaNMGVq6Eb34TDhxI73urWyHiUT16wJIlZlYi3YUB1HIQ8aR+/WDiRBg1Co4ds5ODioOIx4RCZlbigQe+2t7NCnUrRDykqAjGjTOzEmvX2s7GG6yPCCsUtqN9eyLPPUekZ0/X3kOzFSJ+07YtvPEGDBgAhw7ZzsZQt0LEssJCePZZMyvhlcIAajmIWBUMQkWFGWc4etR2NsdTy0HEkmAQLrsMpk+HTz+1nc2JVBxELCgshOuuM7MSNTW2s2mcuhUiada2rblF3dVXe7PFEKXiIJJG7dubWYlzzoEjR2xnc3LqVoikSa9esHAh9O/v/cIAajmIpEUoZLoREybA4cO2s0mMWg4iLuvXz1wrMXMmbN5sO5vEqTiIuKigAH76U3NfiQ8/tJ1NctStEHFJmzYwdy6MHm336srmUnEQcUHHjmYHp/Jye/sxtJS6FSIpVlRkWgznneffwgBqOYikVCgEY8fCpElw8KDtbFpGLQeRFOnXz1wrMXs2bNpkO5uWU3EQSYEePUxrobLSf7MS8bS0W1EL7Ae+BOqAcqAzsAAocp4fAexu4fuIeFZOjrmAavjw9NyJKl1S0XL4FnAWpjAATAGWA6XO1ykpeA8RT+rUCd56Cy66KLMKQyrUAl0aHKsB8p3H+c73TbG+f59CkWyUlBBZuNDckcp2LglGUntItrTlEAFeBN4GKpxjecBW5/E25/vGVGCSTSphES8Ih+Haa2HyZNi/33Y23lTgfO0GvAsMAvY0OCeR8QbbFVWhSDjKyojcdReRvn3t55JkpLXlsMX5ugNYBPQHtnN8t0I9MckYeXlwyy1mkVOmzErE05Li0B7oGPP4YuB9YDEw1jk+Fni2Be8h4hmBACxaBLfdBuvX287GfS2ZyszDtBairzMf+CvwD2AhMB74GDOVKeJrubnw0ktmB6e6OtvZZBfbfTGFIm6UlBCZP59Ip072c2lh6I5XIqkSDsPIkfDLX8LevbazSS8tnxaJ48wzYcQIsyS6ttZ2Numn4iDSiK5dYcoUeOIJWLPGdjZ2qFsh0kAgAM8/D4MHw65dtrOxR8VBJEaXLrBkidmoJdtnJdStEHGUlsK998LFF6swgFoOIoDZwWnkSLjrLtitDQYAtRxEKC2FUaPMrMTGjbazkYZsLw5RZGl07kxk7lwixcX2c0lDaBGUSCICAVi61GzUsqfhtcSiboVkp27d4NVXYcAAFYZ41HKQrFNWZjZpGTpUsxIno+IgWSUcNtvH33037NxpOxtvU7dCskZJiblvZVVVduzHkClsj+IqMjxyc4lUVxMpKrKfi8XQbIVIrEDAbNRywQWwb5/tbPxD3QrJaN27w8svmx2cVBiSo5aDZKyyMrjpJrjkEs1KNIeKg2SkcNjcnu6Pf4TPPrOdjT+pWyEZp7gYrrwSFizQrEQmsD2Kq8iQOPVUIk89RaRXL/u5eDA0WyHZKSfHLIk+/3w4cMB2Nv6nboVkhIIC+NvfoLxchSFV1HIQ3+vXDyZOhMsvhy++sJ1N5lBxEF8LhcysxLRpsH277Wwyi7oV4ltFRTBunJmVWLfOdjbiFtujuAqfRYcORBYvJlJYaD8XH4VmKySztW0Lr78O554Lhw7ZziZzqVshvtKzJzz3nLlWQoXBXWo5iG8Eg1BRAVddBUeP2s4m86nlIL4QDJodnKZPh61bbWeTHVQcxPMKC+Haa6G6GmpqbGeTPdStEE9r1w4efRTGj4ctW2xnk11UHMSz2rWDN980g49HjtjOJvsk0q2YDewA3o851hlYCqxzvuY6x1sBDwDrgVXA2SnLVLJKr17w5JMqDDYlUhweBwY3ODYFWA6UOl+nOMeHOMdKgQpgemrSlGwSDMINN8B116kw+EERx7ccaoB853G+8z3AI8CoOOedjO2VYwqPRDBI5De/IVJWZj+XDIykVkg2d7YiD4hOKG1zvgcoADbFnLfZOdaYCkyySSUsmaugACZM0KyEV6RiQDJalZI1w4noa0gWa9MG5swx27tpHYM3NLc4bMd0F7Y6X3c4x7cAhTHn9XSOicTVoYO5VuKcc7Ty0Uua261YDIx1Ho8Fno05PgYza3EusJf67ofICYqKoLISzjtPhcGPqjD/wL/AjCGMB07HzFKsA5ZhpjbBFIWHgA3Ae0B5gu9he6BGYSFCISJTp+qy6zRGUuN7rZI52UUR2wlIevXta7Z1W7AAPvzQdjZZ420S/w9b11ZI+vXoAZMmwfz5KgxepuXTklY5OVBVBSNGaM9Hr1NxkLTp1AleecVsH69dor1P3QpJi+JimDULBg5UYfALtRzEdeEwXHEF/OIXsH+/7WwkUWo5iKvKysx9JebMgY8/tp2NJEPFQVyTlwc33wzz5sGaNbazkWSpWyGuyMmBRYtg2DD47DPb2UhzqDhIyuXmwksvmWsl6upsZyPNpW6FpFRJCfz5z3DBBSoMfqeWg6RMOAyjRsFtt8G+fbazkZZSy0FSoqzM3Fdi7lyorbWdjaSCioO0WNeucOutpjDoWonMoW6FtEggAM8/D0OGwM6dtrORVFJxkGY7/XR48UUYMECDj5lI3QppltJSuP9++M53VBgylVoOkrRQCEaOhDvvhN27bWcjblHLQZJSWmoKQ2UlbNxoOxtxk4qDJKxLF/jVr+CxxzQrkQ3UrZCEBALw17/Cd7+rrkS2UMtBmtS1K7z2Gpx7rgpDNlHLQU6qrMwscBoyRLMS2UbFQeIKh82S6N//XgucspG6FdKokhJzEVV1NWzYYDsbyWa27wSkiIncXCJVVUSKiuznokhpJHXHK3Ur5DiBgNmo5cILYe9e29mITepWyFfy8mDFCrODkwqDqOUggJmVuPlms+ejZiUEVBwEMysxfDj84Q/aDFbqqVuR5fr0MTecqa6G9ettZyNyItujuFkZnToR+ctfiPTubT8XRVpCsxXStJwcc1Pb88+HAwdsZyNepG5FFsrPNzs4lZerMEh8ajlkmb59YdIkGDFCd7uWk0uk5TAb2AG8H3PsTmAL8G8nhsY8dxuwHqgBvpeaNCUVojs4TZsG27fbzkYywSDgbE4sDrc0cm4QeBfIAYqBDcApCbyH7YGajI+iIiJTpxLp29d+LgprkdSAZCIth1eAXQm+3jCgGjgKfIRpQfRPJiFJvY4dTWvhwQe1g5MkriUDktcDqzDdjlznWAGwKeaczc6xxlRgKllS1UyS06YNrFwJo0fDpk1Nny8S1dziMB0oAc4CtgL3NuM1ZgDlTogLCgrMDWfKy+HgQdvZiN80d7YidjjrUeD/nMdbgMKY53o6xyTNgkGYMAGuvBKOHbOdjfhRc1sO+TGPf0T9YOViYCT1A5KlwFvNzk6aJRQyOzg99BBs3Wo7G/GrRFoOVcCFQBfMGMJvnO/PwoyA1gITnHM/ABYCq4E6YCLwZWpTlpPp1QuuuQZmzIC1a21nI9Jytqd4MiLatSPywgtECgrs56LwZOjaimzUrh28+Sb07w+HD9vORjKBrq3IAIWF8PTTZgcnFQZJFbUcfC4YhGuvhfHj4cgR29lIJlHLwceCQTMr8cgjsEUTxpJiKg4+VVgIFRVmB6eaGtvZSCZSt8KH2raF2bNhzBitYxD3qDj4TIcO8PrrZvDx6FHb2UgmU7fCR4qKYP58c7drFQZxm1oOPhEKwbhxMHEiHDpkOxvJBmo5+EDfvua+ErNm6bJrSR8VB48rKIDrrzfdCW3UIumkboWH5eRAZSVcfrn2fJT0U3HwqFNPhVdfNRu1aJdosUHdCg8qLobHHjM3nFFhEFvUcvCYcNjs3nTTTbrhjNilloOHRGclHn8cPvnEdjaS7VQcPKJ7d7jxRpg3T7MS4g3qVnhAIABPPQWXXAKffWY7GxFDxcGy3Fx46SVzrURdne1sROqpW2FRSQlMnw4XXKDCIN6jloMloRBccQVMmQL79tnORuREajlYUFYGI0bAnDlQW2s7G5HGqTikWbduMHkyzJ2rWQnxNnUr0igQgOeeg6FDYedO29mInJyKQ5p07gxLl8KAARp8FH9QtyINSkth2jS46CIVBvEPtRxcFg7DyJHw61/Dnj22sxFJnFoOLiotNXsxzJsHH31kOxuR5Kg4uKRLF7jjDnPptWYlxI/UrXBBIABLlsDFF8Pu3bazEWketRxSrGtXeO01OO88FQbxNxWHFCothalTYfBgzUqI/6lbkSLhsFkS/bvfwa5dtrMRablEWg6FwMvAauAD4AbneGdgKbDO+ZrrHG8FPACsB1YBZ6cwX0864wwzXVlVBRs22M5GJH3yqf8H3hFYCwSBqcAU5/gU4B7n8VBgCaZInAu8mcB7RPwaublEKiuJFBXZz0WhaCL+icueBb4L1GAKB87X6I3gHwFGxZwfe148tj+0ZkUgQOSdd4h06mQ/F4UigUiqOCQ7IFkEfAPTGsgDojeA3+Z8D1AAxN60bbNzrKEKTLKuVzM35OXBihVmB6e9e21nI5J6yQxIdgCeAm4EGm5PEq1MyZjhRPTnfaOsDG65BX74Q81KSOZKtOXwdUxhqASedo5t5/huxQ7n8RbMIGZUT+dYRgiFYPRouOce+Pxz29mIuCeR4tAKmAWsAe6LOb4YGOs8HosZi4geH0P9gORe6rsfvlZSYm44U1UF69fbzkbEvoGYZv8q4N9ODAVOB5ZjpjKXYaY2wRSFh4ANwHtAeQLvYXugpsno1InIwoVEeve2n4tC0cxIanyvVTInuyhiO4GTycmBt96CgQNh/37b2Yg029sk9p81oOXTTcrPh2XLzN2uVRgkm2j59En06weTJsGPf6y7XUv2UXGIIxSCyy6D+++HHTuaPl8k06hb0YiiIhgzBqqrYd0629mIZDfbo7hfxamnEnnmGSKFhfZzUShSHEnNVqhbEaNNm/qNWg4etJ2NiF3qVjgKCuCFF8yshAqDiFoOgJmV+NnPzLLoY8dsZyPiDVlfHEIhGD4cHnwQtm2znY2Id2R1t6JXL7j6aliwANautZ2NiLdkbcuhfXuYPh0mTIDNm21nI+I9WVkc2raFN96A/v3h8GHb2Yh4U9Z1KwoL4ZlnzA5OKgwi8WVVyyEYhOuuM+MMR47YzkbE27Km5RAMmmslHn4YPv3UdjYi3pcVxaGwECoqzLUSNTVNny8iWdCtaNsWZs6Ea66BLRmzk6WI+zK6OLRvb2Ylysvh6FHb2Yj4S8Z2K3r3NoubBgxQYRBpjoxsOYRCMG4c/OQncOiQ7WxE/CnjWg79+plrJWbN0spHkZbIqOLQowdMnGjuK/Hhh7azEfG3jOlWtGkDlZUwapSurhRJhYwoDh07wsqVZlZC+zGIpIbvuxXFxTBnjtnaTYVBJHV83XIIh+Gqq+CGG7S1m0iq+bblEJ2VeOwx+OQT29mIZB5fFofu3c2dqCorNSsh4hbfdStycuDJJ+HSS3UnKhE3+ao4nHYarFhhNmrRvStF3OWbbkWfPjBjBgwapMIgkg6+aDmEw+aeErfeCvv22c5GJDt4vuVQVmZ2cJozB2prbWcjkj08XRzy8mDyZJg7V7MSIl5UCLwMrAY+AG5wjt8JbAH+7cTQmJ+5DVgP1ADfS+A9TrgjcCBA5O9/J9Kli/U7EysUmRJJ3WU7EfnA2c7jjsBaIIgpDrc0cn4QeBfIAYqBDcApTbzHcX+Izp2J/OtfRFq3tv5hKhSZFEkVh0S6FVuBfzmP9wNrgIKTnD8MqAaOAh9hWhD9E03ojDPMfSu//W2oq0v0p0Qk1ZIdcygCvgG86Xx/PbAKmA3kOscKgE0xP7OZxotJBaaSfVXNwmGzg9Mdd8CePUlmJiIplUxx6AA8BdwI7AOmAyXAWZjWxb1JvvcMoNwJSkthxAizJPqjj5J8JRFJuUSLw9cxhaESeNo5th34EvgP8Cj1XYctmEHMqJ7Osbhat4bbb4fHH4c1axLMSESsawXMAf7U4Hh+zOObMOMMACGOH5DcSBMDksGgGYTE/oCNQpHJkdSAZCIrJM8HrgLew0xZAvwSGIXpUkSAWmCC89wHwELM1GcdMBHTwohr9Wo+Bw4CnyeTvCVd8EeeoFzd4Jc84cRce9tKpKVSPgfrEr/kCcrVDX7JE1qYq6dXSIqIPSoOItKoplYuptvbthNIkF/yBOXqBr/kCf7KVUREREREJNUGYy7tXg9MsZxLY2qpX+MRnRrqDCwF1jlfcxv/UdfNBnYA78cci5dbK+ABzOe8ivorbdOhsTxTecl/qsTbnsCLn2k6tlKw6hTMJd19gABmZWXQakYnqsUsJok1lfpCNgW4J60Z1RuE+YWM/UcXL7ehwBLML/S51F88lw6N5ZnKS/5TJd72BF78TF3fSsH2VGZ/TCXbCBzDLMEeZjWjxAwDnnAePwFcYimPV4BdDY7Fy20YZhl8BHgDOI3jl8C7qbE842nRJf8tFG97Ai9+pq5vpWC7OCR6ebdNEeBFzJRQhXMsD/OXA7DN+d4r4uXmxc+6JZf8uy12ewKvf6ap3ErhK7aLgx8MxDTfhmCuExnU4PnoRS1e5OXcWnrJv5sabk8Qy2ufaaq3UviK7eKQ9OXdFkTz2QEswjTFtlPffMx3nvOKeLl57bNO2SX/KRZvewIvfqaubqVguzj8AyjFDJAEgJHAYqsZHa89ZrAn+vhizKDaYmCsc3ws8Gz6U4srXm6LgTHUD57tpb6pbENs3/xH1A9WLsb8HkQHzkqBt9KUUytgFqb/fl/McS9+pvFy9eLn2mxDMSOtG4DbLefSUB/MCO+7mOmiaH6nA8sxU1vLMFNdNlRhfhm/wPQhx58kt1bAQ5jP+T2cHbgs5jnXyWMV5hc39pf6difPGkx3Ll0GYroMqzh+KtCLn2m8XL34uYqIiIiIiIiIiIiIiIiIiIi46v8BbMwA4dwceAQAAAAASUVORK5CYII=)"
      ],
      "metadata": {
        "id": "Nd_I6sBTNukG"
      }
    },
    {
      "cell_type": "code",
      "metadata": {
        "colab": {
          "base_uri": "https://localhost:8080/",
          "height": 287
        },
        "id": "lvyPnYvXiJu2",
        "outputId": "aa6ee800-4974-4627-a547-81769465f598"
      },
      "source": [
        "img1 = np.zeros((255, 255, 3), dtype=np.uint8)\n",
        "\n",
        "# ここに処理を書いてください\n",
        "\n",
        "plt.imshow(img1)"
      ],
      "execution_count": 15,
      "outputs": [
        {
          "output_type": "execute_result",
          "data": {
            "text/plain": [
              "<matplotlib.image.AxesImage at 0x7f4b868b29d0>"
            ]
          },
          "metadata": {},
          "execution_count": 15
        },
        {
          "output_type": "display_data",
          "data": {
            "text/plain": [
              "<Figure size 432x288 with 1 Axes>"
            ],
            "image/png": "[encoded data removed]"
          },
          "metadata": {
            "needs_background": "light"
          }
        }
      ]
    },
    {
      "cell_type": "markdown",
      "source": [
        "#### 問題２\n",
        "\n",
        "![image.png](data:image/png;base64,iVBORw0KGgoAAAANSUhEUgAAAQcAAAEICAYAAABS/TFyAAAPTElEQVR4nO3cf6zddX3H8eehim6UrFS25tI2FGZdgvuBhBUyGGNhUehirv5Dij9aHUvNBgsmLKFqpkRjwhaFjehgdXQWY+m6KaEx6ChVglusQhUKhTEKtmlvSrsiQpGJtp798fkc77enn3Pv95x7z/2+L30+kk/uOZ/v+fHul3tffL6fz/f7BUmSJEmSJEmSJEmSJKlZu4E/abqISVwIbAF+BPwv8G/ASKMV6ZdOaroAndBOA9YCS4AzgcPAvzRakXQCqI4cPgD8F3AL8GPgWeAPcv9e4CCwqvLePwV+ALyUt9/Y9dkrgT3A88DfdH3XScAa4Jm8fRMwv2bN55ECQgE4cjhxXADsAN4EbAA2Ar8PvBl4H/A5YG5+7U9IATCPFBR/AbwrbzsH+EfgvaRDgF8DFla+56/ya/8IOAN4Afh8zRovAXb2/S+T1JfukcPTlW2/A7SBBZW+54Fze3zW35NGHQAfB+6qbPtV4GeV73oSuKyyfQT4OfC6Ser9XdLcwx9O8jrNkMn+g+m140Dl8f/16OuMHC4AbgJ+GzgZeANpshDSaGBv5X2vkIKl40zgbuAXlb6jpCAa61Hbm4GvA9cB3578n6KZ4GGFSjYAm4HFpMOG24FW3rYfWFR57a+QDlU69gJXkA5JOu2N9A6GM4H7gU8BX5qe8jUdDAeVnEoa4v8UWAa8p7Lt34F3kiY0TyZNVrYq228HPk36owf4dWC0x/csBL5Jmu+4fZpq1zQxHFTyl8AnSSsHHyetOHTsJE06biSNIl4mrXa8mrf/A2nUcV9+/zbSYUrJnwNnkwLm5UqT9BowFzgCnNV0IZKa907SKsUppMOBH3DsoYWkE9Q/k06mehHYCvxWs+VotrkceArYRTpjTpKYQzp99mzSjPajpDPrJM0SwzoJahlpxPBsfr6RtJz1RI/Xt4/v6j6Enez5IO+J8hmTvSZKnTPxbx3G86Y+Yya+t5/Xbz9EWlquZVjhsJBjz6Lbx/HLWatzA6BFC45rJxX6pqt/mJ/dVH+kWvw3Rfs3tZmzhz40efr02twA2q0GC5FOBIXh+YSGFQ5jpFNvOxbR+/RZIGWbpDiGFQ4PAUtJJ8aMASs49hTc4xgOUizDCocjwLXAf5BWLtYxwXX6naMiSXEMc87h3txq8SIPKZYw93Nw5CDFYjhIKgoRDs45SPGECAcwHKRoDAdJRWHCwdUKKZYQ4eCcgxRPiHAAw0GKxnCQVGQ4SCoyHCQVhQiHzu0pJMURIhzAkYMUjeEgqchwkFQUIhw8CUqKJ0Q4gOEgRRMmHFytkGIJEw6OHKRYQoSDcw5SPCHCAQwHKRrDQVJRmHBwQlKKJUQ4OOcgxRMiHMBwkKIxHCQVGQ6SigwHSUUhwsGbvUjxhAgHcOQgRWM4SCoyHCQVhQgHT4KS4plqOOwGDgNHgSPA+cB84F+BJXn7lcALk32Q4SDFMh0jhz8GDlWerwG2Ajflx2uAGyb7EFcrpFiGcVgxClyaH68HHqBGODhykGKZaji0gfvyz38C1gILgP15+3P5ecnq3DiK4SBFM9VwuBgYA34D2AL8d9f2dm4la3PjddA2HKRYphoOY/nnQeBuYBlwABghjR5G8rZJGQ5SLFMJh1NI84iH8+O3A58ENgOrSBOSq4B76nyY4SDFMpVwWEAaLXQ+ZwPwDeAhYBNwNbCHtJQ5Ia+tkOKZSjg8C/xeof954LJ+P8yRgxRLiDMkwXCQojEcJBUZDpKKQoSDF15J8YQIB3C1QoomTDg4cpBiMRwkFYUIB+ccpHhChAMYDlI0hoOkojDh4GqFFEuIcHDOQYonRDiA4SBFYzhIKjIcJBUZDpKKQoSDd4KS4gkRDuDIQYrGcJBUZDhIKgoRDp4EJcUTIhzAcJCiCRMOrlZIsYQIBw8rpHhChAMYDlI0hoOkIsNBUpHhIKkoRDh4bYUUT4hwAEcOUjSGg6Qiw0FSUYhw8CQoKZ4Q4QBOSErR1PmbXAccBB6v9M0HtgBP55+n5f4WcCuwC9gBnFe3kJbNZhtq61edcPgicHlX3xpgK7A0/1yT+6/IfUuB1cBtdQtpesfZbK/11q86hxUPAku6+kaBS/Pj9cADwA25/06gDWwD5gEjwP6JvmDQ4iUNz6BzDgsY/4N/Lj8HWAjsrbxuX+4rhcPq3PgphoMUzXRMSLZz69fa3HgjtA0HKZZBw+EA44cLI6QJS4AxYHHldYty36RcrZBiGfRvcjOwKj9eBdxT6V9JOkq4EHiRSeYboPmJGpvtRGj9qjNyuIs0+Xg6aQ7hE8BNwCbgamAPcGV+7b3ActJS5ivAB+sWMkjxkoanTjhc1aP/skJfG7hmkEIMBymWMGdIGg5SLIaDpKIQ4dDC1QopmhDhAI4cpGgMB0lFhoOkohDhMOhJGpKGJ0Q4gOEgRRMmHFytkGIJEw6OHKRYQoSDcw5SPCHCAQwHKRrDQVKR4SCpKEQ4eG2FFE+IcABHDlI0hoOkIsNBUpHhIKkoRDh4EpQUT4hwAFcrpGjChIMjBykWw0FSUYhwcM5BiidEOIDhIEVjOEgqChMOrlZIsYQIB+ccpHhChAMYDlI0hoOkIsNBUpHhIKkoRDh4JygpnhDhAI4cpGjq/A97HXAQeLzSdyMwBjyS2/LKto8Au4CngHfULaRls9mG2vpVZ+TwReBzwJ1d/bcAn+nqOwdYAbwVOAO4H3gLcHSyLxmkeEnDUyccHgSW1Py8UWAj8CrwQ9IIYhnwnYneNGiySRqeqcw5XAusBB4GrgdeABYC2yqv2Zf7SlbnxssYDlI0g4bDbcCngHb++Vngz/r8jLW5MRfarlZIsQwaDgcqj78AfC0/HgMWV7Ytyn2TcuQgxTJoOIwA+/PjdzO+krEZ2ADcTJqQXAp8b7IPc85BiqdOONwFXAqcTppD+ER+fi7psGI38KH82p3AJuAJ4AhwDTVWKsBwkKKpEw5XFfrumOD1n86tL4aDFEuYMySdkJRiCREOzjlI8YQIBzAcpGgMB0lFhoOkohDh4JyDFE+IcABXK6RowoSDIwcpFsNBUlGIcHDOQYonRDiA4SBFYzhIKgoTDq5WSLGECAfnHKR4QoQDGA5SNIaDpCLDQVKR4SCpKEQ4tHC1QoomRDiAIwcpGsNBUpHhIKkoRDh4EpQUT4hwAMNBiiZMOLhaIcUSJhwcOUixhAgH5xykeEKEAxgOUjSGg6Qiw0FSUYhw8NoKKZ4Q4QCOHKRoDAdJRXVG84uBbwFPADuB63L/fGAL8HT+eVrubwG3AruAHcB5dQpp2Wy2obZ+1Rk5HAGuB74PnApsJ4XBB4CtwE3AmtxuAK4AluZ2AXBb/jmhQYqXNDx1wmF/bgCHgSeBhcAocGnuXw88QAqHUeBOoA1sA+YBI5XPOM6gySZpePqdc1gCvA34LrCA8T/45/JzSMGxt/KefbmvOxxW58aPcbVCiqafcJgLfAX4MPBS17Z2bv1YmxvzoO3IQYqlbji8nhQMXwa+mvsOMH64MAIczP1jpEnMjkW5b0KGgxRLndF8C7iDNNdwc6V/M7AqP14F3FPpX5nfdyHwIhPMN3S+wGazDbf1q87I4SLg/cBjwCO576OkVYpNwNXAHuDKvO1eYDlpKfMV4IN1ChmkeEnDUycc/pPef7uXFfrawDX9FmI4SLGEOUPS1QoplhDhMOgxkaThCREOYDhI0RgOkooMB0lFhoOkohDh0MLVCimaEOEAjhykaAwHSUWGg6SiEOHgSVBSPCHCAZyQlKIJEw6OHKRYDAdJRSHCwTkHKZ4Q4QCGgxSN4SCpKEw4uFohxRIiHJxzkOIJEQ5gOEjRGA6SigwHSUWGg6SiEOHgzV6keEKEAzhykKIxHCQVGQ6SikKEgydBSfGECAcwHKRowoSDqxVSLCHCwcMKKZ4Q4QCGgxSN4SCpyHCQVFRnHnAx8C3gCWAncF3uvxEYAx7JbXnlPR8BdgFPAe+oU0jLZrMNtfWrzsjhCHA98H3gVGA7sCVvuwX4TNfrzwFWAG8FzgDuB94CHO31BS1crZCiqRMO+3MDOAw8CSyc4PWjwEbgVeCHpBHEMuA7E33JIMkmaXj6nXNYArwN+C5wEXAtsBJ4mDS6eIEUHNsq79lHOUxW58YhDAcpmn5G83OBrwAfBl4CbgN+EziXNLL4bJ/fvRY4Hzj/dJo/HrPZXuutX3VHDq8nBcOXga/mvgOV7V8AvpYfj5EmMTsW5b6eBi1e0vDUCYcWcAdpruHmSv8I43MR7wYez483Axvya88AlgLfq/MlkuKoEw4XAe8HHiMtWQJ8FLiKdEjRBnYDH8rbdgKbSEufR4BrmGClAmA7HJpD+yfQPtTvP6ABp5OmSWYDa51+s6VOOL7WM5sqZKoebrqAmmZLnWCtwzBb6oQp1urpBZKKDAdJRXOaLqDL9qYLqGm21AnWOgyzpU6YXbVKkiRJ0nS7nHRp9y5gTcO1lOxm/ByPztLQfNKVqU/nn6c1UxrrgIOMn4AGvWtrAbeS9vMO4LyZK7NY57Re8j9Net2eIOI+nZFbKTRpDvAMcDZwMvAo6ZLvSHaTTiap+jvGg2wN8LczWtG4S0i/kNU/ul61LQe+TvqFvpB08dxMKdV5I/DXhdeeQ/o9eANwFun3Y6YmzkcY/wM/FfifXE/Efdqr1mnbr00vZS4jJdmzwM9Il3qPNlpRPaPA+vx4PfCuhup4EPhRV1+v2kaBO0lntG4D5pF+wWZCqc5eel3yPxP2k+5bAsfeniDiPu1Vay9979emw2EhsLfyvNfl3U1qA/eRloRW574FjF9X8lx+HkWv2iLu62tJw/F1jA/Vo9RZvT1B9H1arRWmab82HQ6zwcWk4dsVpOtELuna3s4tosi1TfWS/2Hqvj1BVbR9Ot23UvilpsOh78u7G9Cp5yBwN2kodoDx4eNI3hZFr9qi7esDpAvyfkG65L8zxG26zl63J4i4T3vVOi37telweIh0SfdZpAnJFaRLvqM4hTTZ03n8dtKk2mZgVe5fBdwz86X11Ku2zaS7dnUmz15kfKjchOqxefcl/ysYnzirdcn/NOl1e4KI+3SiWyl0RNmvA1tOmml9BvhYw7V0O5s0w/soabmoU9+bgK2kpa37SUtdTbiL9Mv4c9Ix5NUT1NYCPk/az4+R7sLVZJ1fynXsIP3iVn+pP5brfIp0ODdTLiYdMuzg2KXAiPu0V60R96skSZIkSZIkSZIkSdJQ/T+5V6jHvFstxQAAAABJRU5ErkJggg==)"
      ],
      "metadata": {
        "id": "R1ldNuuxS9ab"
      }
    },
    {
      "cell_type": "code",
      "metadata": {
        "colab": {
          "base_uri": "https://localhost:8080/",
          "height": 287
        },
        "outputId": "91b50fdb-4163-4819-a6aa-670d05229f0a",
        "id": "AJy0swh7S9ai"
      },
      "source": [
        "img2 = np.zeros((255, 255, 3), dtype=np.uint8)\n",
        "\n",
        "# ここに処理を書いてください\n",
        "\n",
        "plt.imshow(img2)"
      ],
      "execution_count": 16,
      "outputs": [
        {
          "output_type": "execute_result",
          "data": {
            "text/plain": [
              "<matplotlib.image.AxesImage at 0x7f4b8682a810>"
            ]
          },
          "metadata": {},
          "execution_count": 16
        },
        {
          "output_type": "display_data",
          "data": {
            "text/plain": [
              "<Figure size 432x288 with 1 Axes>"
            ],
            "image/png": "[encoded data removed]"
          },
          "metadata": {
            "needs_background": "light"
          }
        }
      ]
    },
    {
      "cell_type": "markdown",
      "source": [
        "#### 問題３\n",
        "\n",
        "![image.png](data:image/png;base64,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)"
      ],
      "metadata": {
        "id": "1KiuQzaNS9kc"
      }
    },
    {
      "cell_type": "code",
      "metadata": {
        "colab": {
          "base_uri": "https://localhost:8080/",
          "height": 287
        },
        "outputId": "f9b126d1-6e74-43a8-a55b-ca8d423cae25",
        "id": "dsNEzQqnS9kc"
      },
      "source": [
        "img3 = np.zeros((255, 255, 3), dtype=np.uint8)\n",
        "\n",
        "# ここに処理を書いてください\n",
        "\n",
        "plt.imshow(img3)"
      ],
      "execution_count": 17,
      "outputs": [
        {
          "output_type": "execute_result",
          "data": {
            "text/plain": [
              "<matplotlib.image.AxesImage at 0x7f4b868d9bd0>"
            ]
          },
          "metadata": {},
          "execution_count": 17
        },
        {
          "output_type": "display_data",
          "data": {
            "text/plain": [
              "<Figure size 432x288 with 1 Axes>"
            ],
            "image/png": "[encoded data removed]"
          },
          "metadata": {
            "needs_background": "light"
          }
        }
      ]
    }
  ]
}