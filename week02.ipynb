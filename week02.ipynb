{
  "nbformat": 4,
  "nbformat_minor": 0,
  "metadata": {
    "kernelspec": {
      "display_name": "Python [default]",
      "language": "python",
      "name": "python3"
    },
    "language_info": {
      "codemirror_mode": {
        "name": "ipython",
        "version": 3
      },
      "file_extension": ".py",
      "mimetype": "text/x-python",
      "name": "python",
      "nbconvert_exporter": "python",
      "pygments_lexer": "ipython3",
      "version": "3.5.5"
    },
    "colab": {
      "provenance": [],
      "toc_visible": true
    }
  },
  "cells": [
    {
      "cell_type": "markdown",
      "metadata": {
        "id": "HDcf3wZjBoux"
      },
      "source": [
        "# 画像メディア工学２回目"
      ]
    },
    {
      "cell_type": "markdown",
      "metadata": {
        "id": "aL-5kYdbr17v"
      },
      "source": [
        "## 2. Pythonの基礎（条件分岐・繰り返しと配列操作）\n",
        "ライブラリの読み込み（おまじない）"
      ]
    },
    {
      "cell_type": "code",
      "metadata": {
        "id": "S78K4ee4Bou0"
      },
      "source": [
        "import matplotlib.pyplot as plt\n",
        "import numpy as np\n",
        "import cv2"
      ],
      "execution_count": 1,
      "outputs": []
    },
    {
      "cell_type": "markdown",
      "metadata": {
        "id": "5f3kVbite5-V"
      },
      "source": [
        "### 2.1 演算子と型変換\n",
        "四則演算や，商と余りは以下のように計算できる．"
      ]
    },
    {
      "cell_type": "code",
      "metadata": {
        "colab": {
          "base_uri": "https://localhost:8080/"
        },
        "id": "EZo-ZAOje6XV",
        "outputId": "739c7364-389b-4308-e232-c77d0ef43c3d"
      },
      "source": [
        "print(1+2)\n",
        "print(1-2)\n",
        "print(1*2)\n",
        "print(1/2)\n",
        "\n",
        "print(16//5)\n",
        "print(16%5)"
      ],
      "execution_count": 2,
      "outputs": [
        {
          "output_type": "stream",
          "name": "stdout",
          "text": [
            "3\n",
            "-1\n",
            "2\n",
            "0.5\n",
            "3\n",
            "1\n"
          ]
        }
      ]
    },
    {
      "cell_type": "markdown",
      "metadata": {
        "id": "LmZF-S6Jqz74"
      },
      "source": [
        "整数型への変換は``int()``を利用する．"
      ]
    },
    {
      "cell_type": "code",
      "metadata": {
        "colab": {
          "base_uri": "https://localhost:8080/"
        },
        "id": "7ZIYROl9q1Ko",
        "outputId": "604fc275-3606-4fa9-d9e8-da1e899a8219"
      },
      "source": [
        "print(10/4)\n",
        "print(int(10/4))"
      ],
      "execution_count": 3,
      "outputs": [
        {
          "output_type": "stream",
          "name": "stdout",
          "text": [
            "2.5\n",
            "2\n"
          ]
        }
      ]
    },
    {
      "cell_type": "markdown",
      "metadata": {
        "id": "JGcrAEG8sAt1"
      },
      "source": [
        "今回の課題では使わないが，文字列の掛け算で繰り返しの文字列が作成できる．\n",
        "\n",
        "（詳細は説明しませんが，文字列についてはC言語よりも便利な部分が多くあると思います）"
      ]
    },
    {
      "cell_type": "code",
      "metadata": {
        "colab": {
          "base_uri": "https://localhost:8080/"
        },
        "id": "ZP341oZssHv-",
        "outputId": "3767d94b-97aa-4d68-d492-4aeb0a95dd6e"
      },
      "source": [
        "str1 = \"123\"*3\n",
        "str2 = \"abcde\"\n",
        "print(str1+str2)"
      ],
      "execution_count": 4,
      "outputs": [
        {
          "output_type": "stream",
          "name": "stdout",
          "text": [
            "123123123abcde\n"
          ]
        }
      ]
    },
    {
      "cell_type": "markdown",
      "metadata": {
        "id": "OxjkAqaeBou1"
      },
      "source": [
        "### 2.2 条件分岐\n",
        "C言語などと同様に条件分岐には``if``文を用いる．"
      ]
    },
    {
      "cell_type": "code",
      "metadata": {
        "colab": {
          "base_uri": "https://localhost:8080/"
        },
        "id": "mcoIZYnEBou2",
        "outputId": "57f2864d-15da-4bfd-9645-be9967ad7ff9"
      },
      "source": [
        "a = -1\n",
        "\n",
        "if a < 0:\n",
        "  print(\"aは負の数\")\n",
        "elif a%2 == 1:\n",
        "  print(\"aは奇数\")\n",
        "else:\n",
        "  print(\"aは偶数\")\n"
      ],
      "execution_count": 5,
      "outputs": [
        {
          "output_type": "stream",
          "name": "stdout",
          "text": [
            "aは負の数\n"
          ]
        }
      ]
    },
    {
      "cell_type": "markdown",
      "metadata": {
        "id": "BWgg0HeMTtOh"
      },
      "source": [
        "pythonでは，複数の条件を指定する際に，``if 4 <= month and month <= 9:``といった書き方以外に，``4 <= month <= 9:``といった数学的な表記も可能．"
      ]
    },
    {
      "cell_type": "code",
      "metadata": {
        "colab": {
          "base_uri": "https://localhost:8080/"
        },
        "id": "_JpGWFg6Tsg3",
        "outputId": "e7d06707-2a57-43f3-ab88-f085be2083ea"
      },
      "source": [
        "month = 5\n",
        "\n",
        "# if 4 <= month and month <= 9:\n",
        "if 4 <= month <= 9:\n",
        "  print(\"前期\")\n",
        "else:\n",
        "  print(\"後期\")"
      ],
      "execution_count": 6,
      "outputs": [
        {
          "output_type": "stream",
          "name": "stdout",
          "text": [
            "前期\n"
          ]
        }
      ]
    },
    {
      "cell_type": "markdown",
      "metadata": {
        "id": "T9OtgLlCXWVE"
      },
      "source": [
        "## 2.3 繰り返し\n",
        "繰り返しとして，``for``文と``while``文がある．\n",
        "\n",
        "``for``文はC言語などとは少し異なり，ある条件を満たすまでといった繰り返しではない．``in``の後ろから一つずつ要素を取り出し，``in``の前の変数に代入していくイメージ．下の例では，配列``[\"ptrhon\", \"C\", \"Java\"]``から順に要素を取り出し表示している．"
      ]
    },
    {
      "cell_type": "code",
      "metadata": {
        "colab": {
          "base_uri": "https://localhost:8080/"
        },
        "id": "pZ1qSIdmXWVJ",
        "outputId": "56747687-6607-4da3-9c42-915924d58060"
      },
      "source": [
        "for lang in [\"ptrhon\", \"C\", \"Java\"]:\n",
        "  print(lang)"
      ],
      "execution_count": 7,
      "outputs": [
        {
          "output_type": "stream",
          "name": "stdout",
          "text": [
            "ptrhon\n",
            "C\n",
            "Java\n"
          ]
        }
      ]
    },
    {
      "cell_type": "markdown",
      "metadata": {
        "id": "LntmXD9mXWVJ"
      },
      "source": [
        "0から4まで5回繰り返しといった繰り返しも可能で，``range()``関数を利用する．5は含まないことに注意．"
      ]
    },
    {
      "cell_type": "code",
      "metadata": {
        "colab": {
          "base_uri": "https://localhost:8080/"
        },
        "id": "vQqrtVpTXWVJ",
        "outputId": "88965bb6-0041-40eb-8d66-cf40a1e3c3ad"
      },
      "source": [
        "for i in range(5):\n",
        "  print(i)"
      ],
      "execution_count": 8,
      "outputs": [
        {
          "output_type": "stream",
          "name": "stdout",
          "text": [
            "0\n",
            "1\n",
            "2\n",
            "3\n",
            "4\n"
          ]
        }
      ]
    },
    {
      "cell_type": "markdown",
      "metadata": {
        "id": "MOkV7h1UgQu8"
      },
      "source": [
        "10から30まで5ずつ増加，といった繰り返しも可能．こちらも30は含まない．"
      ]
    },
    {
      "cell_type": "code",
      "metadata": {
        "colab": {
          "base_uri": "https://localhost:8080/"
        },
        "id": "A1uHa6ppY56V",
        "outputId": "c263f04b-b8a7-4832-9eff-d6569f0163ae"
      },
      "source": [
        "for i in range(10,30,5):\n",
        "  print(i)"
      ],
      "execution_count": 9,
      "outputs": [
        {
          "output_type": "stream",
          "name": "stdout",
          "text": [
            "10\n",
            "15\n",
            "20\n",
            "25\n"
          ]
        }
      ]
    },
    {
      "cell_type": "markdown",
      "metadata": {
        "id": "H1dclkSzhYRj"
      },
      "source": [
        "``while``文はC言語などと使い方は同じ．"
      ]
    },
    {
      "cell_type": "code",
      "metadata": {
        "colab": {
          "base_uri": "https://localhost:8080/"
        },
        "id": "qiVMPnclgmOs",
        "outputId": "d6ee238b-fda1-4fa1-8cea-65a4095c2413"
      },
      "source": [
        "i = 0\n",
        "while i<5:\n",
        "  print(i)\n",
        "  i+=1"
      ],
      "execution_count": 10,
      "outputs": [
        {
          "output_type": "stream",
          "name": "stdout",
          "text": [
            "0\n",
            "1\n",
            "2\n",
            "3\n",
            "4\n"
          ]
        }
      ]
    },
    {
      "cell_type": "markdown",
      "metadata": {
        "id": "_RnV8uUf-cqz"
      },
      "source": [
        "## 2.4 配列操作\n",
        "画像は２次元配列や３次元配列として扱われることが多い．\n",
        "\n",
        "pythonの配列としてリストもあるが，画像を表す配列としてはnumpyの配列が良く用いられるため，以降，numpyの配列のことを「配列」と呼ぶこととする（リストは利用しない）．"
      ]
    },
    {
      "cell_type": "code",
      "metadata": {
        "colab": {
          "base_uri": "https://localhost:8080/"
        },
        "id": "mjAuZRqAvXGf",
        "outputId": "b3f14aba-5735-4ef2-acfc-a104ef9f2c49"
      },
      "source": [
        "# リスト この演習では利用しない\n",
        "arr0 = [[1,2,3,4,5],[6,7,8,9,10]]\n",
        "print(arr0)\n",
        "\n",
        "# numpyの配列　この演習では，こちらを「配列」と呼ぶ\n",
        "arr = np.array([[1,2,3,4,5],[6,7,8,9,10]])\n",
        "print(arr)"
      ],
      "execution_count": 11,
      "outputs": [
        {
          "output_type": "stream",
          "name": "stdout",
          "text": [
            "[[1, 2, 3, 4, 5], [6, 7, 8, 9, 10]]\n",
            "[[ 1  2  3  4  5]\n",
            " [ 6  7  8  9 10]]\n"
          ]
        }
      ]
    },
    {
      "cell_type": "markdown",
      "metadata": {
        "id": "fNgA--jQw8tI"
      },
      "source": [
        "配列へのアクセスは，1か所だけ指定する方法以外に，範囲指定などの様々な方法が存在する．"
      ]
    },
    {
      "cell_type": "code",
      "metadata": {
        "colab": {
          "base_uri": "https://localhost:8080/"
        },
        "id": "Nwd46TJyxTFt",
        "outputId": "ee5c4d9e-c06f-47b0-d830-4d00036bc4e2"
      },
      "source": [
        "print(arr[0, 1])\n",
        "print(arr[0, 0:3])  # 0～2番目まで（3番目は含まない）\n",
        "print(arr[0, :3])   # 最初からの場合は前の数字は省略してもよい\n",
        "print(arr[0, 3:5])  # 3～4番目まで（5番目は含まない）\n",
        "print(arr[0, 3:])   # 最後までの場合は後ろの数字は省略してもよい"
      ],
      "execution_count": 12,
      "outputs": [
        {
          "output_type": "stream",
          "name": "stdout",
          "text": [
            "2\n",
            "[1 2 3]\n",
            "[1 2 3]\n",
            "[4 5]\n",
            "[4 5]\n"
          ]
        }
      ]
    },
    {
      "cell_type": "markdown",
      "metadata": {
        "id": "f7C0Ts3ZxS1o"
      },
      "source": [
        "2つおきにアクセス，後ろから２番目にアクセスといったこともできる．"
      ]
    },
    {
      "cell_type": "code",
      "metadata": {
        "id": "HrdnBiCd1k6y",
        "colab": {
          "base_uri": "https://localhost:8080/"
        },
        "outputId": "899fe908-1dcf-4b35-8270-8254138aefc0"
      },
      "source": [
        "print(arr[0, 0:5:2])  # 0～4番目まで２つおき\n",
        "\n",
        "print(arr[0, -1])     # 後ろから1番目\n",
        "print(arr[0, -2])     # 後ろから2番目"
      ],
      "execution_count": 13,
      "outputs": [
        {
          "output_type": "stream",
          "name": "stdout",
          "text": [
            "[1 3 5]\n",
            "5\n",
            "4\n"
          ]
        }
      ]
    },
    {
      "cell_type": "markdown",
      "metadata": {
        "id": "UdUzEvEZh8qa"
      },
      "source": [
        "# 課題\n",
        "以下の画像を作成するプログラムを完成させてください．\n",
        "画像サイズ$255\\times255$の真っ黒の画像作成部分は準備されていますので，「# ここに処理を書いてください」のところに，適切な処理を追加してください．\n",
        "\n",
        "※ 注意：``for``文や配列操作を使ってください．\n",
        "\n",
        "**問題１は提出必須とします**．問題２，３は少し難しいと思いますので，提出必須とはしません．できた人だけ提出してください．また提出は，追加部分のみとしてください．\n",
        "\n"
      ]
    },
    {
      "cell_type": "markdown",
      "source": [
        "#### 例題\n",
        "![image.png](data:image/png;base64,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)\n",
        "\n",
        "この場合は，以下の部分を提出してください．\n",
        "\n",
        "```\n",
        "for i in range(255):\n",
        "  img_ex[i,i,0] = 255\n",
        "```"
      ],
      "metadata": {
        "id": "qWs5VDUuRB0M"
      }
    },
    {
      "cell_type": "code",
      "metadata": {
        "colab": {
          "base_uri": "https://localhost:8080/",
          "height": 452
        },
        "id": "QtD1EyEmhqY7",
        "outputId": "43bf4b31-1e98-4655-ff3f-56090ef714a4"
      },
      "source": [
        "img_ex = np.zeros((255, 255, 3), dtype=np.uint8)\n",
        "\n",
        "for i in range(255):\n",
        "  img_ex[i,i,0] = 255\n",
        "plt.imshow(img_ex)"
      ],
      "execution_count": 14,
      "outputs": [
        {
          "output_type": "execute_result",
          "data": {
            "text/plain": [
              "<matplotlib.image.AxesImage at 0x7a11695bd750>"
            ]
          },
          "metadata": {},
          "execution_count": 14
        },
        {
          "output_type": "display_data",
          "data": {
            "text/plain": [
              "<Figure size 640x480 with 1 Axes>"
            ],
            "image/png": "[encoded data removed]"
          },
          "metadata": {}
        }
      ]
    },
    {
      "cell_type": "markdown",
      "source": [
        "#### 問題１\n",
        "線の色は黄色です\n",
        "\n",
        "![image.png](data:image/png;base64,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)"
      ],
      "metadata": {
        "id": "Nd_I6sBTNukG"
      }
    },
    {
      "cell_type": "code",
      "metadata": {
        "colab": {
          "base_uri": "https://localhost:8080/",
          "height": 452
        },
        "id": "lvyPnYvXiJu2",
        "outputId": "34196e92-fa2b-4caf-8b04-1c2bb0a6ee1e"
      },
      "source": [
        "img1 = np.zeros((255, 255, 3), dtype=np.uint8)\n",
        "\n",
        "# ここに処理を書いてください\n",
        "\n",
        "plt.imshow(img1)"
      ],
      "execution_count": 15,
      "outputs": [
        {
          "output_type": "execute_result",
          "data": {
            "text/plain": [
              "<matplotlib.image.AxesImage at 0x7a11694dff70>"
            ]
          },
          "metadata": {},
          "execution_count": 15
        },
        {
          "output_type": "display_data",
          "data": {
            "text/plain": [
              "<Figure size 640x480 with 1 Axes>"
            ],
            "image/png": "[encoded data removed]"
          },
          "metadata": {}
        }
      ]
    },
    {
      "cell_type": "markdown",
      "source": [
        "#### 問題２\n",
        "\n",
        "![image.png](data:image/png;base64,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)"
      ],
      "metadata": {
        "id": "R1ldNuuxS9ab"
      }
    },
    {
      "cell_type": "code",
      "metadata": {
        "colab": {
          "base_uri": "https://localhost:8080/",
          "height": 452
        },
        "outputId": "8983faf7-96f4-474d-8c14-31eee4024af6",
        "id": "AJy0swh7S9ai"
      },
      "source": [
        "img2 = np.zeros((255, 255, 3), dtype=np.uint8)\n",
        "\n",
        "# ここに処理を書いてください\n",
        "\n",
        "plt.imshow(img2)"
      ],
      "execution_count": 16,
      "outputs": [
        {
          "output_type": "execute_result",
          "data": {
            "text/plain": [
              "<matplotlib.image.AxesImage at 0x7a116938d3f0>"
            ]
          },
          "metadata": {},
          "execution_count": 16
        },
        {
          "output_type": "display_data",
          "data": {
            "text/plain": [
              "<Figure size 640x480 with 1 Axes>"
            ],
            "image/png": "[encoded data removed]"
          },
          "metadata": {}
        }
      ]
    },
    {
      "cell_type": "markdown",
      "source": [
        "#### 問題３\n",
        "\n",
        "![image.png](data:image/png;base64,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)"
      ],
      "metadata": {
        "id": "1KiuQzaNS9kc"
      }
    },
    {
      "cell_type": "code",
      "metadata": {
        "colab": {
          "base_uri": "https://localhost:8080/",
          "height": 452
        },
        "outputId": "66ecabee-5c6a-42bf-b793-804b2be1327b",
        "id": "dsNEzQqnS9kc"
      },
      "source": [
        "img3 = np.zeros((255, 255, 3), dtype=np.uint8)\n",
        "\n",
        "# ここに処理を書いてください\n",
        "\n",
        "plt.imshow(img3)"
      ],
      "execution_count": 17,
      "outputs": [
        {
          "output_type": "execute_result",
          "data": {
            "text/plain": [
              "<matplotlib.image.AxesImage at 0x7a1169206290>"
            ]
          },
          "metadata": {},
          "execution_count": 17
        },
        {
          "output_type": "display_data",
          "data": {
            "text/plain": [
              "<Figure size 640x480 with 1 Axes>"
            ],
            "image/png": "[encoded data removed]"
          },
          "metadata": {}
        }
      ]
    }
  ]
}