{
  "nbformat": 4,
  "nbformat_minor": 0,
  "metadata": {
    "kernelspec": {
      "display_name": "Python [default]",
      "language": "python",
      "name": "python3"
    },
    "language_info": {
      "codemirror_mode": {
        "name": "ipython",
        "version": 3
      },
      "file_extension": ".py",
      "mimetype": "text/x-python",
      "name": "python",
      "nbconvert_exporter": "python",
      "pygments_lexer": "ipython3",
      "version": "3.5.5"
    },
    "colab": {
      "name": "week02.ipynb",
      "provenance": [],
      "collapsed_sections": [],
      "toc_visible": true
    }
  },
  "cells": [
    {
      "cell_type": "markdown",
      "metadata": {
        "id": "HDcf3wZjBoux"
      },
      "source": [
        "# 画像メディア工学２回目"
      ]
    },
    {
      "cell_type": "markdown",
      "metadata": {
        "id": "aL-5kYdbr17v"
      },
      "source": [
        "## 2. Pythonの基礎（条件分岐・繰り返しと配列操作）\n",
        "ライブラリの読み込み（おまじない）"
      ]
    },
    {
      "cell_type": "code",
      "metadata": {
        "id": "S78K4ee4Bou0"
      },
      "source": [
        "import matplotlib.pyplot as plt\n",
        "import numpy as np\n",
        "import cv2"
      ],
      "execution_count": 1,
      "outputs": []
    },
    {
      "cell_type": "markdown",
      "metadata": {
        "id": "5f3kVbite5-V"
      },
      "source": [
        "### 2.1 演算子と型変換\n",
        "四則演算や，商と余りは以下のように計算できる．"
      ]
    },
    {
      "cell_type": "code",
      "metadata": {
        "colab": {
          "base_uri": "https://localhost:8080/"
        },
        "id": "EZo-ZAOje6XV",
        "outputId": "2e4051c4-1ad6-446a-d019-44302e5e9a86"
      },
      "source": [
        "print(1+2)\n",
        "print(1-2)\n",
        "print(1*2)\n",
        "print(1/2)\n",
        "\n",
        "print(16//5)\n",
        "print(16%5)"
      ],
      "execution_count": 2,
      "outputs": [
        {
          "output_type": "stream",
          "name": "stdout",
          "text": [
            "3\n",
            "-1\n",
            "2\n",
            "0.5\n",
            "3\n",
            "1\n"
          ]
        }
      ]
    },
    {
      "cell_type": "markdown",
      "metadata": {
        "id": "LmZF-S6Jqz74"
      },
      "source": [
        "整数型への変換は``int()``を利用する．"
      ]
    },
    {
      "cell_type": "code",
      "metadata": {
        "colab": {
          "base_uri": "https://localhost:8080/"
        },
        "id": "7ZIYROl9q1Ko",
        "outputId": "4d042e48-b50c-4e2e-ef5e-0117c6efedc1"
      },
      "source": [
        "print(10/4)\n",
        "print(int(10/4))"
      ],
      "execution_count": 3,
      "outputs": [
        {
          "output_type": "stream",
          "name": "stdout",
          "text": [
            "2.5\n",
            "2\n"
          ]
        }
      ]
    },
    {
      "cell_type": "markdown",
      "metadata": {
        "id": "JGcrAEG8sAt1"
      },
      "source": [
        "今回の課題では使わないが，文字列の掛け算で繰り返しの文字列が作成できる．\n",
        "\n",
        "（詳細は説明しませんが，文字列についてはC言語よりも便利な部分が多くあると思います）"
      ]
    },
    {
      "cell_type": "code",
      "metadata": {
        "colab": {
          "base_uri": "https://localhost:8080/"
        },
        "id": "ZP341oZssHv-",
        "outputId": "6ce8fe5e-8e3e-4a70-833a-98071f26fd84"
      },
      "source": [
        "str1 = \"123\"*3\n",
        "str2 = \"abcde\"\n",
        "print(str1+str2)"
      ],
      "execution_count": 4,
      "outputs": [
        {
          "output_type": "stream",
          "name": "stdout",
          "text": [
            "123123123abcde\n"
          ]
        }
      ]
    },
    {
      "cell_type": "markdown",
      "metadata": {
        "id": "OxjkAqaeBou1"
      },
      "source": [
        "### 2.2 条件分岐\n",
        "C言語などと同様に条件分岐には``if``文を用いる．"
      ]
    },
    {
      "cell_type": "code",
      "metadata": {
        "colab": {
          "base_uri": "https://localhost:8080/"
        },
        "id": "mcoIZYnEBou2",
        "outputId": "eda667e1-a429-407e-a6e8-9ded8c91235a"
      },
      "source": [
        "a = -1\n",
        "\n",
        "if a < 0:\n",
        "  print(\"aは負の数\")\n",
        "elif a%2 == 1:\n",
        "  print(\"aは奇数\")\n",
        "else:\n",
        "  print(\"aは偶数\")\n"
      ],
      "execution_count": 5,
      "outputs": [
        {
          "output_type": "stream",
          "name": "stdout",
          "text": [
            "aは負の数\n"
          ]
        }
      ]
    },
    {
      "cell_type": "markdown",
      "metadata": {
        "id": "BWgg0HeMTtOh"
      },
      "source": [
        "pythonでは，複数の条件を指定する際に，``if 4 <= month and month <= 9:``といった書き方以外に，``4 <= month <= 9:``といった数学的な表記も可能．"
      ]
    },
    {
      "cell_type": "code",
      "metadata": {
        "colab": {
          "base_uri": "https://localhost:8080/"
        },
        "id": "_JpGWFg6Tsg3",
        "outputId": "3763a9e2-1ecd-4731-e4dc-c55fff217075"
      },
      "source": [
        "month = 5\n",
        "\n",
        "# if 4 <= month and month <= 9:\n",
        "if 4 <= month <= 9:\n",
        "  print(\"前期\")\n",
        "else:\n",
        "  print(\"後期\")"
      ],
      "execution_count": 6,
      "outputs": [
        {
          "output_type": "stream",
          "name": "stdout",
          "text": [
            "前期\n"
          ]
        }
      ]
    },
    {
      "cell_type": "markdown",
      "metadata": {
        "id": "T9OtgLlCXWVE"
      },
      "source": [
        "## 2.3 繰り返し\n",
        "繰り返しとして，``for``文と``while``文がある．\n",
        "\n",
        "``for``文はC言語などとは少し異なり，ある条件を満たすまでといった繰り返しではない．``in``の後ろから一つずつ要素を取り出し，``in``の前の変数に代入していくイメージ．下の例では，配列``[\"ptrhon\", \"C\", \"Java\"]``から順に要素を取り出し表示している．"
      ]
    },
    {
      "cell_type": "code",
      "metadata": {
        "colab": {
          "base_uri": "https://localhost:8080/"
        },
        "id": "pZ1qSIdmXWVJ",
        "outputId": "16e174ef-eaca-4021-ad8c-64b6fb1f3a7a"
      },
      "source": [
        "for lang in [\"ptrhon\", \"C\", \"Java\"]:\n",
        "  print(lang)"
      ],
      "execution_count": 7,
      "outputs": [
        {
          "output_type": "stream",
          "name": "stdout",
          "text": [
            "ptrhon\n",
            "C\n",
            "Java\n"
          ]
        }
      ]
    },
    {
      "cell_type": "markdown",
      "metadata": {
        "id": "LntmXD9mXWVJ"
      },
      "source": [
        "0から4まで5回繰り返しといった繰り返しも可能で，``range()``関数を利用する．5は含まないことに注意．"
      ]
    },
    {
      "cell_type": "code",
      "metadata": {
        "colab": {
          "base_uri": "https://localhost:8080/"
        },
        "id": "vQqrtVpTXWVJ",
        "outputId": "14336554-e28c-4092-9b8d-ed0ba7d68239"
      },
      "source": [
        "for i in range(5):\n",
        "  print(i)"
      ],
      "execution_count": 8,
      "outputs": [
        {
          "output_type": "stream",
          "name": "stdout",
          "text": [
            "0\n",
            "1\n",
            "2\n",
            "3\n",
            "4\n"
          ]
        }
      ]
    },
    {
      "cell_type": "markdown",
      "metadata": {
        "id": "MOkV7h1UgQu8"
      },
      "source": [
        "10から30まで5ずつ増加，といった繰り返しも可能．こちらも30は含まない．"
      ]
    },
    {
      "cell_type": "code",
      "metadata": {
        "colab": {
          "base_uri": "https://localhost:8080/"
        },
        "id": "A1uHa6ppY56V",
        "outputId": "8e87b97d-da49-42dd-bbb0-6274b7acc802"
      },
      "source": [
        "for i in range(10,30,5):\n",
        "  print(i)"
      ],
      "execution_count": 9,
      "outputs": [
        {
          "output_type": "stream",
          "name": "stdout",
          "text": [
            "10\n",
            "15\n",
            "20\n",
            "25\n"
          ]
        }
      ]
    },
    {
      "cell_type": "markdown",
      "metadata": {
        "id": "H1dclkSzhYRj"
      },
      "source": [
        "``while``文はC言語などと使い方は同じ．"
      ]
    },
    {
      "cell_type": "code",
      "metadata": {
        "colab": {
          "base_uri": "https://localhost:8080/"
        },
        "id": "qiVMPnclgmOs",
        "outputId": "853774a7-1166-4ac8-b8e3-a828e0026517"
      },
      "source": [
        "i = 0\n",
        "while i<5:\n",
        "  print(i)\n",
        "  i+=1"
      ],
      "execution_count": 10,
      "outputs": [
        {
          "output_type": "stream",
          "name": "stdout",
          "text": [
            "0\n",
            "1\n",
            "2\n",
            "3\n",
            "4\n"
          ]
        }
      ]
    },
    {
      "cell_type": "markdown",
      "metadata": {
        "id": "_RnV8uUf-cqz"
      },
      "source": [
        "## 2.4 配列操作\n",
        "画像は２次元配列や３次元配列として扱われることが多い．\n",
        "\n",
        "pythonの配列としてリストもあるが，画像を表す配列としてはnumpyの配列が良く用いられるため，以降，numpyの配列のことを「配列」と呼ぶこととする（リストは利用しない）．"
      ]
    },
    {
      "cell_type": "code",
      "metadata": {
        "colab": {
          "base_uri": "https://localhost:8080/"
        },
        "id": "mjAuZRqAvXGf",
        "outputId": "3acc60e0-8d8c-4f20-9f95-80f68c7e4b57"
      },
      "source": [
        "# リスト この演習では利用しない\n",
        "arr0 = [[1,2,3,4,5],[6,7,8,9,10]]\n",
        "print(arr0)\n",
        "\n",
        "# numpyの配列　この演習では，こちらを「配列」と呼ぶ\n",
        "arr = np.array([[1,2,3,4,5],[6,7,8,9,10]])\n",
        "print(arr)"
      ],
      "execution_count": 11,
      "outputs": [
        {
          "output_type": "stream",
          "name": "stdout",
          "text": [
            "[[1, 2, 3, 4, 5], [6, 7, 8, 9, 10]]\n",
            "[[ 1  2  3  4  5]\n",
            " [ 6  7  8  9 10]]\n"
          ]
        }
      ]
    },
    {
      "cell_type": "markdown",
      "metadata": {
        "id": "fNgA--jQw8tI"
      },
      "source": [
        "配列へのアクセスは，1か所だけ指定する方法以外に，範囲指定などの様々な方法が存在する．"
      ]
    },
    {
      "cell_type": "code",
      "metadata": {
        "colab": {
          "base_uri": "https://localhost:8080/"
        },
        "id": "Nwd46TJyxTFt",
        "outputId": "405a4a97-e801-4484-d042-0472a9264088"
      },
      "source": [
        "print(arr[0, 1])\n",
        "print(arr[0, 0:3])  # 0～2番目まで（3番目は含まない）\n",
        "print(arr[0, :3])   # 最初からの場合は前の数字は省略してもよい\n",
        "print(arr[0, 3:5])  # 3～4番目まで（5番目は含まない）\n",
        "print(arr[0, 3:])   # 最後までの場合は後ろの数字は省略してもよい"
      ],
      "execution_count": 12,
      "outputs": [
        {
          "output_type": "stream",
          "name": "stdout",
          "text": [
            "2\n",
            "[1 2 3]\n",
            "[1 2 3]\n",
            "[4 5]\n",
            "[4 5]\n"
          ]
        }
      ]
    },
    {
      "cell_type": "markdown",
      "metadata": {
        "id": "f7C0Ts3ZxS1o"
      },
      "source": [
        "2つおきにアクセス，後ろから２番目にアクセスといったこともできる．"
      ]
    },
    {
      "cell_type": "code",
      "metadata": {
        "id": "HrdnBiCd1k6y",
        "colab": {
          "base_uri": "https://localhost:8080/"
        },
        "outputId": "e2a4a28b-f232-4042-9993-31d79e9be726"
      },
      "source": [
        "print(arr[0, 0:5:2])  # 0～4番目まで２つおき\n",
        "\n",
        "print(arr[0, -1])     # 後ろから1番目\n",
        "print(arr[0, -2])     # 後ろから2番目"
      ],
      "execution_count": 13,
      "outputs": [
        {
          "output_type": "stream",
          "name": "stdout",
          "text": [
            "[1 3 5]\n",
            "5\n",
            "4\n"
          ]
        }
      ]
    },
    {
      "cell_type": "markdown",
      "metadata": {
        "id": "UdUzEvEZh8qa"
      },
      "source": [
        "# 課題\n",
        "以下の２つの画像を作成してください．\n",
        "画像サイズは$255\\times255$の画像が既に準備されていますので，適切な処理を追加してください．右の画像(Image 2)は少し難しいかもしれませんが，少なくとも左の画像(Image 1)だけはやってみてください．\n",
        "\n",
        "※ ``for``文と配列操作を使ってください．\n",
        "\n",
        "追加部分のみ提出をお願いします．\n",
        "\n",
        "![img02-1.png](data:image/png;base64,iVBORw0KGgoAAAANSUhEUgAAAQcAAAEICAYAAABS/TFyAAAABHNCSVQICAgIfAhkiAAAAAlwSFlzAAALEgAACxIB0t1+/AAAADh0RVh0U29mdHdhcmUAbWF0cGxvdGxpYiB2ZXJzaW9uMy4yLjIsIGh0dHA6Ly9tYXRwbG90bGliLm9yZy+WH4yJAAAXc0lEQVR4nO3dabRcVZnG8f8jehOGCAlDCCEQwEskyQdkXQGVBdpOENsGbcSASlAkqEDjhCuIA21rL6BVBBvBMAYMCTRKE1tRBmUhuBiCYpgMhJkYiMzIEAy+/WGfC0WomztUndqnqp7fWmfdyqlTVW8K7pt373323ooIzMzW9LrcAZhZNTk5mFldTg5mVpeTg5nV5eRgZnU5OZhZXU4OZlaXk0OHknSfpPfkjmNtJPVIuqiINSS9M3dM9gonB8vtGuDjwMO5A7FXc3LoApIOknStpBMlPSnpHklvL84/KGmlpFk1139A0h8lPV08f+wa73egpPslPSbp67VViqTXSZoj6e7i+QsljasXV0S8GBE/iIhrgJfK/A5s+JwcuscuwBJgY+B8YCHwVuBNpH+5/1vSBsW1zwIHAhsBHwA+K2kfAElTgR8BHwMmABsCE2s+5whgH2APYAvgCeCUMv9iVg4nh+5xb0ScHREvARcAk4BvRcSqiLgMeJGUKIiIqyLiloj4R0QsARaQftkB9gV+HhHXRMSLwDeA2gk6nwGOiYiHImIVcCywr6TXt+Ivac3j/2Dd45Gax88DRMSa5zYAkLQLcBwwHegBRgH/U1y3BfBg/4si4jlJj9W8z9bAxZL+UXPuJWA8sLwpfxNrCVcOVs/5wCJgUkRsCJwGqHhuBbBl/4WS1iU1Vfo9COwVERvVHKMjwomhzTg5WD1jgMcj4gVJOwMH1Dx3EfDBokOzh9RsUM3zpwHfkbQ1gKRNJe090AdJGiVpdPHHHkmjJWmg6611nBysns8B35L0DKlP4cL+JyLiNlKn40JSFfE3YCWwqrjkJFLVcVnx+utInaEDWUpq0kwEfl083rqZfxkbGXmxF2tEMcLxJNAbEffmjseax5WDDZukD0paT9L6wHeBW4D78kZlzebkYCOxN/CX4ugFZoZL0I5TWrNC0p6k9uc6wBkRcVwpH2RmpSglOUhaB7gTeC/wEHAjsH9E3N70DzOzUpR1E9TOwLKIuAdA0kJSKVo3OUhySWpWktcD2wO3w6MRselQX1dWn8NEau6iI1UPtfffI2m2pMWSFpcUg1nX6wXO4OUpr/cP57XZbp+OiLnAXHDlYFaG6cB+wLeAx0fw+rIqh+WkiT39tsT31Zu1TC8wk3Qf/D0jfI+yksONQK+kbYpbbGeS7pozs5KNA74JnAn8uYH3KaVZERGrJR1Ouh12HeCs4rZbMytRD3AF8C7gqQbfqxK3T7vPwaxxm5HK892A1fUvuSki+ob6fl7PwawDTAGOAv6ZARPDsDk5mLW5aaRRieOAR5v4vp5bYdbGtiUt5rkAWNbk93ZyMGtTG5Gqhbk0NioxEDcrzNrQKOAqYHfg6ZI+w5WDWZvZHLgS6KO8xACuHMzayg7AvwEfpnmjEgNxcjBrE9NJm4Z8n7RoZ9ncrDBrA5NJ25ItBO5q0We6cjCruDHAicCRwAMt/FwnB7MKGw1cC7ydtAdAK7lZYVZRWwCXkkYlWp0YwJWDWSXtABwG7E/a4TgHJweziplGGpU4mZeXd8vCzQqzCpkMHEQalbgzaySuHMwqY33gh8BnSSsy5+bkYFYB6/LKjsPPZY6ln5sVZplNAi4hjUpUJTGAKwezrKYCs0n9DKvyhvIarhzMMpkKfAQ4lbQjcdU4OZhlMAk4hDQqsTRzLANxs8KsxdYlbVH3SapZMfRzcjBrofVJoxJvBV7IHMtg3Kwwa5GtgAtJW9BXPTGAKwezlphGakYcCjyfOZahcuVgVrIdSHMlzqAadz4OlZODWYkmkm6HXkA5y8eXyc0Ks5KMBs4DDiDv7MqRcnIwK8EY0gpOfeRbj6FRblaYNdlkUsXwNto3MYArB7OmmgbMAo4Ans0cS6NcOZg1yQ6kuRJnAQ9mjqUZnBzMmmALUrUwn/YblRhIQ80KSfcBzwAvAasjok/SOOACUtPrPmC/iHiisTDNqmsUaQLVvrRmJ6pWaUbl8K6I2DEi+oo/zwGujIhe0n6fc5rwGWaVtCFwA/BuOisxQDnNir2BecXjecA+JXyGWXbbAacDuwF/zxxLGRpNDgFcJukmSbOLc+MjYkXx+GFgfL0XSpotabGkxQ3GYNZy04FPA0eR2tWdqNGhzN0iYrmkzYDLJb2qLyYiQlLUe2FEzAXmAgx0jVkVTSGNSswD7s8cS5kaqhwiYnnxcyVwMWk26iOSJgAUPzutKWZdbDzwZdJNTp0yKjGQEScHSetLGtP/GHgfcCuwiHQfCMXPSxoN0qwKekj/Ah4NLMscSys00qwYD1wsqf99zo+IX0m6EbhQ0sGkqmu/xsM0y2ss8BvSCk6rM8fSKorI39x3n4NV2XbAf5CmXj+VOZYG3VRzy8GgPLfCbC2mAzOBr9L2iWHYfPu02QC2J7WJ55Nu9e02Tg5mdWxKurV3HnBH5lhycbPCbA09wC+APYHHM8eSk5ODWY1NgEtJC7V0y6jEQNysMCv0At8j3bDT7YkBXDmYAWkFp5nAvwNeXyBx5WBdrxfYnzQqcU/mWKrEycG62jjgG8CZdP5cieFys8K6Vg9wOWmhliczx1JFrhysK20G/A7YBSeGgbhysK4zhbRIyww8KrE2Tg7WVaaTFmo5DngscyxV52aFdY3tSPtWLqA71mNolJODdYWxwHdI6xJ6VGJo3KywjtdDWqhlD+DpzLG0E1cO1tE2B35LWsHJiWF4XDlYx5oCfIG0cYpHJYbPycE60nTS9nTfBf6aOZZ25WaFdZxtgI+TNmz1qMTIuXKwjvJGUrXwBeCBzLG0OycH6xijSLdEvwP4W+ZYOoGbFdYRJgK/BvpwYmgWVw7W9nYADgM+Smfudp2Lk4O1tWmkUYmTgEcyx9Jp3KywtjUZOIg0KnFX1kg6kysHa0sbACeTmhMPZo6lUzk5WNtZF/g9sCvwXOZYOpmbFdZWtgR+Tpor4cRQLlcO1jamArOBTwCrMsfSDVw5WFuYSlrB6VRgReZYuoWTg1XeJODTwEJgaeZYuombFVZp6wGnAwcDyzPH0m2cHKyy1gOuJ3U+vpA5lm40aLNC0lmSVkq6tebcOEmXS7qr+Dm2OC9JJ0taJmmJpJ3KDN4611bARTgx5DSUPodzgD3XODcHuDIieoEriz8D7EXaerCX1LF8anPCtG4yFTgSOAQnhpwGTQ4RcTXw+Bqn9wbmFY/nkVbi6j9/biTXARtJmtCsYK3z9Y9KzMV9DLmNdLRifET0jyg9DIwvHk/k1XezPlScew1JsyUtlrR4hDFYh5kIHIpHJaqi4Q7JiAhJMYLXzSX9A8FIXm+dZTRwLml5N9/HUA0jTQ6PSJoQESuKZsPK4vxy0rB0vy1xdWiD2IA0V+Kt+M7HKhlps2IRMKt4PAu4pOb8gcWoxa7AUzXND7PXmAzMB96GE0PlRMRaD9LWgitIi+w8RLofZWPSKMVdwBXAuOJaAacAdwO3AH2DvX/xuvDRfcc0iBMgJlUgli45Fg/l97H/UPHLmZX7HLrPm0nLul2A965soZsiom+oF3tuhbXcFsARwPk4MVSZb5+2lhpFaqfuh9d8rDonB2uZDYGrScvHe5Xo6nOzwlpiG+BMYDecGNqFKwcr3XTgY8CXgGcyx2JD58rBSjWFtK/EucD9mWOx4XFysNKMB74I/AS4I3MsNnxuVlgpRgEXk6bp/jVzLDYyTg7WdGOB35DmSqzOHIuNnJsV1lTbAT8C9sCJod25crCmmQ7sDxwNPJ05FmucKwdriimkFZzOA+7LG4o1iZODNWxT4CukxOC5Ep3DzQprSA/wC9LKwo9ljsWay8nBRmxj4DJgF9z52IncrLAR6QVOBN6DE0OncuVgwzYNmAkcCzyRNxQrkSsHG5ZeUmKYD9yTORYrl5ODDdkmwNeBs/GoRDdws8KGpAf4FfBe3JToFq4cbFCbAtcAu+LE0E1cOdhaTSHd4LQXHpXoNk4ONqDppFui/xPf4NSN3KywurYjTaJaSNqhyLqPk4O9xljg28DpeAWnbuZmhb1KD2mhlncCT+UNxTJz5WAvGw9cRVrByYnBXDkYkEYlvkha89GjEgZODkYaldgX+C+8GKy9ws2KLrctacOZhcCyzLFYtTg5dLENgeOB0/BcCXstNyu61CjSprbvAP6WORarJlcOXWgCaQWnPpwYbGCuHLrMm4EjgP3wbte2doNWDpLOkrRS0q01546VtFzSzcUxo+a5oyUtk7RU0vvLCtyGr38Fp5OARzLHYtU3lGbFOcCedc6fGBE7FscvASRNJf3/N614zY8krdOsYG3kJgOzSKMSd+YNxdrEoMkhIq4GHh/i++0NLIyIVRFxL2l0bOcG4rMmGEOqFn6IRyVs6BrpkDxc0pKi2TG2ODcReLDmmoeKc68habakxZIWNxCDDWI0cC1wAK/+D2M2mJEmh1NJs3p3BFYA3xvuG0TE3Ijoi4i+EcZgg5hI2nCmD3g2cyzWfkY0WhERL/dnSTod+L/ij8uBSTWXblmcsxabChwKfBx4MXMs1p5GVDlImlDzxw8B/SMZi4CZkkZJ2oa0kvkNjYVowzWNtILTKaSyzmwkBq0cJC0gTe/fRNJDwDeBd0raEQjSpsqHAkTEbZIuBG4nTe47LCJeKid0q2cr4FPAXDwqYY1RROSOAUn5g+gA6wEXAYfgtpzVddNw+vh8h2SHWA+4njRu/HzmWKwzeG5FB5gE/Iy0gpMTgzWLK4c2NxX4NHAw8ELmWKyzuHJoY1NJoxI/xn0M1nxODm1qEjCbNFdiaeZYrDO5WdGG1gXOAg7E9zFYeZwc2swGwO9JnY+rMsdinc3NijYyGTiftNu1E4OVzZVDm5gGHAQcBjyXNxTrEq4c2sCbSftKnImnXVvrODlU3ETgcFJzwgu1WCu5WVFho4D5wEfxmo/Wek4OFfVG4HekhVq8SrTl4GZFBW0DnE3acMaJwXJx5VAx00mrN30BbzhjeblyqJD+UYlzgAfyhmLm5FAVmwOfB36CRyWsGtysqIAe4KfAPsBfM8di1s/JIbOxwG9IcyVWZ47FrJabFRltR9oAZA+cGKx6XDlkMg34GDAHeDpzLGb1uHLIYAqwH3AuaV1/sypycmixzYCjgPPwqIRVm5sVLdQD/ByYATyWORazwTg5tMg44HJgF9z5aO3BzYoW6AVOAt6NE4O1D1cOJZsOzAS+ATyZORaz4XDlUKJe0loMPwHuzRyL2XA5OZRkE+BrpKnXHpWwduRmRQl6gEuB9wFPZI7FbKRcOTTZpsA1wNtwYrD25uTQRL3ACcCeeFTC2p+bFU0ynXRL9LeBxzPHYtYMg1YOkiZJ+q2k2yXdJunI4vw4SZdLuqv4ObY4L0knS1omaYmkncr+S+T2JtJw5QLg7syxmDVNRKz1ACYAOxWPxwB3knZ/PwGYU5yfAxxfPJ5B6o8Taee264fwGdGux1iI+RCTKxCLDx+DHIsH+1181e/lcC4ufpEvAd5L2vl9Qk0CWVo8/jGwf831L1/XacmhB+KPEBtWIBYfPoZwDCs5DKtDUtJk4C3A9cD4iOjfAf5hYHzxeCKv3rXtoeLcmu81W9JiSYuHE0NVjAeuIq3g9FTeUMxKMeQOSUkbkJY6/HxEPC3p5eciIiTFcD44IuYCc4v3HtZrc5sCfBn4FzwqYZ1rSJWDpDeQEsP8iPhZcfoRSROK5ycAK4vzy4FJNS/fsjjXEaYBBwDHA49mjsWsTEMZrRBpg+c7IuL7NU8tAmYVj2eR+iL6zx9YjFrsCjxV0/xoa9uRNpxZACzLHItZ6YbQAbkbqTNjCXBzccwANgauBO4CrgDGFdcLOIU0qncL0NcJoxUbQlwIsXUFYvHhY4THsDokVfxyZlX1PodRwA2kLPlM5ljMGnBTRPQN9WLfPj2ICaSyqA8nBusuvn16LXYAjgD+Fe92bd3HyWEA04CPACfyyjCMWTdxs6KOycCBwEJSb6tZN3LlsIY3Aj8gNSceHORas07m5FBjNK8s1PJs5ljMcnOzojAR+CVpVMKJwcyVA5BGJT5Hui36xcyxmFVF1yeHacC+wA9JU0vNLOnqZsVWwCeBC0gr2JjZK7q2clgfOBU4lLTghJm9Wlcmh3WB64Cdgeczx2JWVV3XrJgE/C9pBScnBrOBdVXlMBU4hNTP8ELmWMyqrmsqh6mkuRKnAX/JHItZO+iK5DAJmE2aK7E0cyxm7aLjmxXrAmcAn6KDFrI0a4GOTg7rk0Yl+oBVmWMxazcd26zYmnRz0y44MZiNREdWDtOAg4DPAM/lDcWsbXVc5bADaa7EmfjOR7NGdFRy2AI4jLSvxJ8zx2LW7jqmWTEamA/sj2dXmjVDRySHMcC1pFEJr8dg1hxt36zYBjiXtLSbE4NZ87R15TAd+ARwJF7azazZ2rZy6B+VOBt4IHMsZp2oLZPD5qSl4+fjUQmzsrRds2IUcBHwYbwTlVmZ2io5bARcRVqoxXtXmpWrbZoV2wJzgd1xYjBrhbaoHKaT9pT4CvB05ljMukXlK4cppBWczgXuyxuKWVepdHIYDxwFnIdHJcxabdDkIGmSpN9Kul3SbZKOLM4fK2m5pJuLY0bNa46WtEzSUknvH0lgPaRVoucAy0byBmbWkKH0OawGvhQRf5A0BrhJ0uXFcydGxHdrL5Y0FZhJWlZhC+AKSdtHxEtDDWoccAVpX4nVQ32RmTXVoJVDRKyIiD8Uj58B7iBtSj2QvYGFEbEqIu4l/cO/81ADehNp38p/wonBLKdh9TlImgy8Bbi+OHW4pCWSzpI0tjg3EXiw5mUPUSeZSJotabGkxf3nppNWcPoa8ORwAjOzphtycpC0AfBT4PMR8TRpq8ntgB2BFcD3hvPBETE3Ivoiog+gF9iPdEv0vcN5IzMrxZCSg6Q3kBLD/Ij4GUBEPBIRL0XEP4DTeaXpsJy0VUS/LRlkVfjXA8cA55DaLGaW31BGK0RakvGOiPh+zfkJNZd9CLi1eLwImClplKRtSEXBDWv7jO2BLwL3DC92MyvRUEYr3kFaNuEWSTcX574K7C9pRyBI9ycdChARt0m6ELid1Kd42GAjFbfDo6QlGR4dyV+ixTahPeIEx1qGdokTXhvr1sN5sSKiueGMkKTF/f0PVdYucYJjLUO7xAmNx1rpOyTNLB8nBzOrq0rJYW7uAIaoXeIEx1qGdokTGoy1Mn0OZlYtVaoczKxCnBzMrK7syUHSnsXU7mWS5uSOZ02S7pN0SzEtfXFxbpykyyXdVfwcO9j7lBTbWZJWSrq15lzd2JScXHzPSyTtlDnOUqf8jzDOgZYnqOJ3Wv5SChGR7QDWAe4mLRHZA/wJmJozpjox3gdsssa5E4A5xeM5wPGZYtsd2Am4dbDYgBnApYCAXYHrM8d5LPDlOtdOLf4/GEXa0OxuYJ0WxTkB2Kl4PAa4s4init/pQLE27XvNXTnsDCyLiHsi4kVgIWnKd9XtDcwrHs8D9skRRERcDTy+xumBYtsbODeS64CN1rgFvtVxDqShKf+NiIGXJ6jid1r6Ugq5k8OQpndnFsBlkm6SNLs4Nz4iVhSPHyataFcVA8VWxe96xFP+y7bG8gSV/k6buZRCrdzJoR3sFhE7AXsBh0navfbJSDVbJceDqxwbDU75L1Od5QleVrXvtNlLKdTKnRyGPb271SJiefFzJXAxqRR7pL98LH5WafOtgWKr1HcdTZzy30z1liegot9p2Usp5E4ONwK9kraR1ENae3JR5pheJmn9Yt1MJK0PvI80NX0RMKu4bBZwSZ4I6xootkXAgUUP+67AUzWlcss1c8p/E2OquzwBFfxOB4q1qd9rq3pX19LrOoPU03o3cEzueNaIbVtSD++fgNv64wM2Bq4E7iKthTsuU3wLSKXj30ltyIMHio3Uo35K8T3fAvRljvO8Io4lxf+4E2quP6aIcymwVwvj3I3UZFgC3FwcMyr6nQ4Ua9O+V98+bWZ15W5WmFlFOTmYWV1ODmZWl5ODmdXl5GBmdTk5mFldTg5mVtf/AyKkZlC48F4mAAAAAElFTkSuQmCC) ![img02-2.png](data:image/png;base64,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)"
      ]
    },
    {
      "cell_type": "code",
      "metadata": {
        "colab": {
          "base_uri": "https://localhost:8080/",
          "height": 286
        },
        "id": "QtD1EyEmhqY7",
        "outputId": "4c9fb037-f1e2-481b-d8e3-c6bff36949d3"
      },
      "source": [
        "img1 = np.zeros((255, 255, 3), dtype=np.uint8)\n",
        "\n",
        "# ここに処理を書いてください\n",
        "\n",
        "plt.imshow(img1)"
      ],
      "execution_count": 14,
      "outputs": [
        {
          "output_type": "execute_result",
          "data": {
            "text/plain": [
              "<matplotlib.image.AxesImage at 0x7fcb5a7455d0>"
            ]
          },
          "metadata": {},
          "execution_count": 14
        },
        {
          "output_type": "display_data",
          "data": {
            "image/png": "[encoded data removed]",
            "text/plain": [
              "<Figure size 432x288 with 1 Axes>"
            ]
          },
          "metadata": {
            "needs_background": "light"
          }
        }
      ]
    },
    {
      "cell_type": "code",
      "metadata": {
        "colab": {
          "base_uri": "https://localhost:8080/",
          "height": 286
        },
        "id": "lvyPnYvXiJu2",
        "outputId": "91020bab-4458-4625-b665-1818fda0a864"
      },
      "source": [
        "img2 = np.zeros((255, 255, 3), dtype=np.uint8)\n",
        "\n",
        "# ここに処理を書いてください\n",
        "\n",
        "plt.imshow(img2)"
      ],
      "execution_count": 15,
      "outputs": [
        {
          "output_type": "execute_result",
          "data": {
            "text/plain": [
              "<matplotlib.image.AxesImage at 0x7fcb5a223510>"
            ]
          },
          "metadata": {},
          "execution_count": 15
        },
        {
          "output_type": "display_data",
          "data": {
            "image/png": "[encoded data removed]",
            "text/plain": [
              "<Figure size 432x288 with 1 Axes>"
            ]
          },
          "metadata": {
            "needs_background": "light"
          }
        }
      ]
    },
    {
      "cell_type": "code",
      "metadata": {
        "id": "1W9WqckyDGR8"
      },
      "source": [
        ""
      ],
      "execution_count": 15,
      "outputs": []
    }
  ]
}