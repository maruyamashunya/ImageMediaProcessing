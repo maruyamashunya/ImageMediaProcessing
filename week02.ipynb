{
  "nbformat": 4,
  "nbformat_minor": 0,
  "metadata": {
    "kernelspec": {
      "display_name": "Python [default]",
      "language": "python",
      "name": "python3"
    },
    "language_info": {
      "codemirror_mode": {
        "name": "ipython",
        "version": 3
      },
      "file_extension": ".py",
      "mimetype": "text/x-python",
      "name": "python",
      "nbconvert_exporter": "python",
      "pygments_lexer": "ipython3",
      "version": "3.5.5"
    },
    "colab": {
      "name": "week02.ipynb",
      "provenance": [],
      "toc_visible": true
    }
  },
  "cells": [
    {
      "cell_type": "markdown",
      "metadata": {
        "id": "HDcf3wZjBoux"
      },
      "source": [
        "# 画像メディア工学２回目"
      ]
    },
    {
      "cell_type": "markdown",
      "metadata": {
        "id": "aL-5kYdbr17v"
      },
      "source": [
        "## 2. Pythonの基礎（条件分岐・繰り返しと配列操作）\n",
        "ライブラリの読み込み（おまじない）"
      ]
    },
    {
      "cell_type": "code",
      "metadata": {
        "id": "S78K4ee4Bou0"
      },
      "source": [
        "%matplotlib inline\n",
        "import matplotlib.pyplot as plt\n",
        "import numpy as np\n",
        "import cv2"
      ],
      "execution_count": 1,
      "outputs": []
    },
    {
      "cell_type": "markdown",
      "metadata": {
        "id": "5f3kVbite5-V"
      },
      "source": [
        "### 2.1 演算子と型変換\n",
        "四則演算や，商と余りは以下のように計算できる．"
      ]
    },
    {
      "cell_type": "code",
      "metadata": {
        "colab": {
          "base_uri": "https://localhost:8080/"
        },
        "id": "EZo-ZAOje6XV",
        "outputId": "4173fd5a-6643-4f3f-9eeb-0ce5a605c690"
      },
      "source": [
        "print(1+2)\n",
        "print(1-2)\n",
        "print(1*2)\n",
        "print(1/2)\n",
        "\n",
        "print(16//5)\n",
        "print(16%5)"
      ],
      "execution_count": 2,
      "outputs": [
        {
          "output_type": "stream",
          "name": "stdout",
          "text": [
            "3\n",
            "-1\n",
            "2\n",
            "0.5\n",
            "3\n",
            "1\n"
          ]
        }
      ]
    },
    {
      "cell_type": "markdown",
      "metadata": {
        "id": "LmZF-S6Jqz74"
      },
      "source": [
        "整数型への変換は``int()``を利用する．"
      ]
    },
    {
      "cell_type": "code",
      "metadata": {
        "colab": {
          "base_uri": "https://localhost:8080/"
        },
        "id": "7ZIYROl9q1Ko",
        "outputId": "40dfe687-9138-4c86-f4ec-e1f187dc6731"
      },
      "source": [
        "print(10/4)\n",
        "print(int(10/4))"
      ],
      "execution_count": 3,
      "outputs": [
        {
          "output_type": "stream",
          "name": "stdout",
          "text": [
            "2.5\n",
            "2\n"
          ]
        }
      ]
    },
    {
      "cell_type": "markdown",
      "metadata": {
        "id": "JGcrAEG8sAt1"
      },
      "source": [
        "今回の課題では使わないが，文字列の掛け算で繰り返しの文字列が作成できる．\n",
        "\n",
        "（詳細は説明しませんが，文字列についてはC言語よりも便利な部分が多くあると思います）"
      ]
    },
    {
      "cell_type": "code",
      "metadata": {
        "colab": {
          "base_uri": "https://localhost:8080/"
        },
        "id": "ZP341oZssHv-",
        "outputId": "ca9ccc1f-afb5-415d-cfbf-607cffba9354"
      },
      "source": [
        "str1 = \"123\"*3\n",
        "str2 = \"abcde\"\n",
        "print(str1+str2)"
      ],
      "execution_count": 4,
      "outputs": [
        {
          "output_type": "stream",
          "name": "stdout",
          "text": [
            "123123123abcde\n"
          ]
        }
      ]
    },
    {
      "cell_type": "markdown",
      "metadata": {
        "id": "OxjkAqaeBou1"
      },
      "source": [
        "### 2.2 条件分岐\n",
        "C言語などと同様に条件分岐には``if``文を用いる．"
      ]
    },
    {
      "cell_type": "code",
      "metadata": {
        "colab": {
          "base_uri": "https://localhost:8080/"
        },
        "id": "mcoIZYnEBou2",
        "outputId": "a12e21a3-6ec9-4ce2-d006-514400e50059"
      },
      "source": [
        "a = -1\n",
        "\n",
        "if a < 0:\n",
        "  print(\"aは負の数\")\n",
        "elif a%2 == 1:\n",
        "  print(\"aは奇数\")\n",
        "else:\n",
        "  print(\"aは偶数\")\n"
      ],
      "execution_count": 5,
      "outputs": [
        {
          "output_type": "stream",
          "name": "stdout",
          "text": [
            "aは負の数\n"
          ]
        }
      ]
    },
    {
      "cell_type": "markdown",
      "metadata": {
        "id": "BWgg0HeMTtOh"
      },
      "source": [
        "pythonでは，複数の条件を指定する際に，``if 4 <= month and month <= 9:``といった書き方以外に，``4 <= month <= 9:``といった数学的な表記も可能．"
      ]
    },
    {
      "cell_type": "code",
      "metadata": {
        "colab": {
          "base_uri": "https://localhost:8080/"
        },
        "id": "_JpGWFg6Tsg3",
        "outputId": "6ad70f57-a409-4c9f-b48f-e88279cf1356"
      },
      "source": [
        "month = 5\n",
        "\n",
        "# if 4 <= month and month <= 9:\n",
        "if 4 <= month <= 9:\n",
        "  print(\"前期\")\n",
        "else:\n",
        "  print(\"後期\")"
      ],
      "execution_count": 6,
      "outputs": [
        {
          "output_type": "stream",
          "name": "stdout",
          "text": [
            "前期\n"
          ]
        }
      ]
    },
    {
      "cell_type": "markdown",
      "metadata": {
        "id": "T9OtgLlCXWVE"
      },
      "source": [
        "## 2.3 繰り返し\n",
        "繰り返しとして，``for``文と``while``文がある．\n",
        "\n",
        "``for``文はC言語などとは少し異なり，ある条件を満たすまでといった繰り返しではない．``in``の後ろから一つずつ要素を取り出し，``in``の前の変数に代入していくイメージ．下の例では，配列``[\"ptrhon\", \"C\", \"Java\"]``から順に要素を取り出し表示している．"
      ]
    },
    {
      "cell_type": "code",
      "metadata": {
        "colab": {
          "base_uri": "https://localhost:8080/"
        },
        "id": "pZ1qSIdmXWVJ",
        "outputId": "dace31a5-33ac-4fdf-d56c-978751d70007"
      },
      "source": [
        "for lang in [\"ptrhon\", \"C\", \"Java\"]:\n",
        "  print(lang)"
      ],
      "execution_count": 7,
      "outputs": [
        {
          "output_type": "stream",
          "name": "stdout",
          "text": [
            "ptrhon\n",
            "C\n",
            "Java\n"
          ]
        }
      ]
    },
    {
      "cell_type": "markdown",
      "metadata": {
        "id": "LntmXD9mXWVJ"
      },
      "source": [
        "0から4まで5回繰り返しといった繰り返しも可能で，``range()``関数を利用する．5は含まないことに注意．"
      ]
    },
    {
      "cell_type": "code",
      "metadata": {
        "colab": {
          "base_uri": "https://localhost:8080/"
        },
        "id": "vQqrtVpTXWVJ",
        "outputId": "217c78c1-911d-46fa-fb84-e0e0389156ab"
      },
      "source": [
        "for i in range(5):\n",
        "  print(i)"
      ],
      "execution_count": 8,
      "outputs": [
        {
          "output_type": "stream",
          "name": "stdout",
          "text": [
            "0\n",
            "1\n",
            "2\n",
            "3\n",
            "4\n"
          ]
        }
      ]
    },
    {
      "cell_type": "markdown",
      "metadata": {
        "id": "MOkV7h1UgQu8"
      },
      "source": [
        "10から30まで5ずつ増加，といった繰り返しも可能．こちらも30は含まない．"
      ]
    },
    {
      "cell_type": "code",
      "metadata": {
        "colab": {
          "base_uri": "https://localhost:8080/"
        },
        "id": "A1uHa6ppY56V",
        "outputId": "dec570bc-7271-43bf-8746-4369a46b0f13"
      },
      "source": [
        "for i in range(10,30,5):\n",
        "  print(i)"
      ],
      "execution_count": 9,
      "outputs": [
        {
          "output_type": "stream",
          "name": "stdout",
          "text": [
            "10\n",
            "15\n",
            "20\n",
            "25\n"
          ]
        }
      ]
    },
    {
      "cell_type": "markdown",
      "metadata": {
        "id": "H1dclkSzhYRj"
      },
      "source": [
        "``while``文はC言語などと使い方は同じ．"
      ]
    },
    {
      "cell_type": "code",
      "metadata": {
        "colab": {
          "base_uri": "https://localhost:8080/"
        },
        "id": "qiVMPnclgmOs",
        "outputId": "d9a61178-eeca-4cb1-b3eb-e6d6c36c4125"
      },
      "source": [
        "i = 0\n",
        "while i<5:\n",
        "  print(i)\n",
        "  i+=1"
      ],
      "execution_count": 10,
      "outputs": [
        {
          "output_type": "stream",
          "name": "stdout",
          "text": [
            "0\n",
            "1\n",
            "2\n",
            "3\n",
            "4\n"
          ]
        }
      ]
    },
    {
      "cell_type": "markdown",
      "metadata": {
        "id": "_RnV8uUf-cqz"
      },
      "source": [
        "## 2.3 配列操作\n",
        "画像は２次元配列や３次元配列として扱われることが多い．\n",
        "\n",
        "pythonの配列としてリストもあるが，画像を表す配列としてはnumpyの配列が良く用いられるため，以降，numpyの配列のことを「配列」と呼ぶこととする（リストは利用しない）．"
      ]
    },
    {
      "cell_type": "code",
      "metadata": {
        "colab": {
          "base_uri": "https://localhost:8080/"
        },
        "id": "mjAuZRqAvXGf",
        "outputId": "17f846e8-21f5-4759-bd8d-3513e2c392f3"
      },
      "source": [
        "# リスト この演習では利用しない\n",
        "arr0 = [[1,2,3,4,5],[6,7,8,9,10]]\n",
        "print(arr0)\n",
        "\n",
        "# numpyの配列　こちらを「配列」と呼ぶ\n",
        "arr = np.array([[1,2,3,4,5],[6,7,8,9,10]])\n",
        "print(arr)"
      ],
      "execution_count": 11,
      "outputs": [
        {
          "output_type": "stream",
          "name": "stdout",
          "text": [
            "[[1, 2, 3, 4, 5], [6, 7, 8, 9, 10]]\n",
            "[[ 1  2  3  4  5]\n",
            " [ 6  7  8  9 10]]\n"
          ]
        }
      ]
    },
    {
      "cell_type": "markdown",
      "metadata": {
        "id": "fNgA--jQw8tI"
      },
      "source": [
        "配列へのアクセスは，1か所だけ指定する方法以外に，範囲指定などの様々な方法が存在する．"
      ]
    },
    {
      "cell_type": "code",
      "metadata": {
        "colab": {
          "base_uri": "https://localhost:8080/"
        },
        "id": "Nwd46TJyxTFt",
        "outputId": "fd3c4c33-0cd1-42a7-a250-d3d2d88ca14f"
      },
      "source": [
        "print(arr[0,1])\n",
        "print(arr[0,0:3])\n",
        "print(arr[0,3:5])"
      ],
      "execution_count": 12,
      "outputs": [
        {
          "output_type": "stream",
          "name": "stdout",
          "text": [
            "2\n",
            "[1 2 3]\n",
            "[4 5]\n"
          ]
        }
      ]
    },
    {
      "cell_type": "markdown",
      "metadata": {
        "id": "f7C0Ts3ZxS1o"
      },
      "source": [
        ""
      ]
    },
    {
      "cell_type": "code",
      "metadata": {
        "id": "HrdnBiCd1k6y",
        "colab": {
          "base_uri": "https://localhost:8080/"
        },
        "outputId": "1007cb20-4c20-4f44-b747-6100911d6eee"
      },
      "source": [
        "print(arr[0,0:5:2])\n",
        "\n",
        "print(arr[0,-2:])\n",
        "\n",
        "\n",
        "  "
      ],
      "execution_count": 13,
      "outputs": [
        {
          "output_type": "stream",
          "name": "stdout",
          "text": [
            "[1 3 5]\n",
            "[4 5]\n"
          ]
        }
      ]
    },
    {
      "cell_type": "markdown",
      "metadata": {
        "id": "UdUzEvEZh8qa"
      },
      "source": [
        "# 課題\n",
        "以下の２つの画像を作成してください．\n",
        "画像サイズは$255\\times255$の画像が既に準備されていますので，適切な処理を追加してください．右の画像は少し難しいかもしれませんので，少なくとも左の画像だけはやってみてください．\n",
        "\n",
        "※ ``for``文と配列操作を使ってください．\n",
        "\n",
        "追加部分のみ提出をお願いします．\n",
        "\n",
        "![img02-1.png](data:image/png;base64,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)\n",
        "![img02-2.png](data:image/png;base64,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)"
      ]
    },
    {
      "cell_type": "code",
      "metadata": {
        "colab": {
          "base_uri": "https://localhost:8080/",
          "height": 286
        },
        "id": "QtD1EyEmhqY7",
        "outputId": "e15d8c74-acdd-4445-9495-29524b0c3dfa"
      },
      "source": [
        "img1 = np.zeros((255, 255, 3), dtype=np.uint8)\n",
        "img1[100,100,1]=255\n",
        "\n",
        "# ここに処理を書いてください\n",
        "\n",
        "plt.imshow(img1)"
      ],
      "execution_count": 14,
      "outputs": [
        {
          "output_type": "execute_result",
          "data": {
            "text/plain": [
              "<matplotlib.image.AxesImage at 0x7f164111da90>"
            ]
          },
          "metadata": {},
          "execution_count": 14
        },
        {
          "output_type": "display_data",
          "data": {
            "image/png": "[encoded data removed]",
            "text/plain": [
              "<Figure size 432x288 with 1 Axes>"
            ]
          },
          "metadata": {
            "needs_background": "light"
          }
        }
      ]
    },
    {
      "cell_type": "code",
      "metadata": {
        "colab": {
          "base_uri": "https://localhost:8080/",
          "height": 286
        },
        "id": "lvyPnYvXiJu2",
        "outputId": "a4b916d0-f853-4b5e-b424-88df6a8ff3bc"
      },
      "source": [
        "img2 = np.zeros((255, 255, 3), dtype=np.uint8)\n",
        "\n",
        "# ここに処理を書いてください\n",
        "\n",
        "plt.imshow(img2)"
      ],
      "execution_count": 15,
      "outputs": [
        {
          "output_type": "execute_result",
          "data": {
            "text/plain": [
              "<matplotlib.image.AxesImage at 0x7f1640bfd710>"
            ]
          },
          "metadata": {},
          "execution_count": 15
        },
        {
          "output_type": "display_data",
          "data": {
            "image/png": "[encoded data removed]",
            "text/plain": [
              "<Figure size 432x288 with 1 Axes>"
            ]
          },
          "metadata": {
            "needs_background": "light"
          }
        }
      ]
    }
  ]
}