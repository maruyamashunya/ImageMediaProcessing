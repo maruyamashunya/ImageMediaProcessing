{
 "cells": [
  {
   "cell_type": "markdown",
   "metadata": {},
   "source": [
    "# 画像メディア工学５回目\n",
    "## 5. 周波数領域におけるフィルタリング（フーリエ変換）\n",
    "### ライブラリの読み込み（おまじない）"
   ]
  },
  {
   "cell_type": "code",
   "execution_count": 1,
   "metadata": {},
   "outputs": [],
   "source": [
    "%matplotlib inline\n",
    "import matplotlib.pyplot as plt\n",
    "import numpy as np\n",
    "import cv2"
   ]
  },
  {
   "cell_type": "markdown",
   "metadata": {},
   "source": [
    "### 5.1 １次元データのフーリエ変換\n",
    "画像のフーリエ変換（２次元フーリエ変換）の前に，フーリエ変換の簡単な説明として１次元データのフーリエ変換．\n",
    "\n",
    "### Sin波の合成のフーリエ変換\n",
    "例では，$y = 1 + 3 \\sin(x) + 2 \\sin(5 x)$"
   ]
  },
  {
   "cell_type": "code",
   "execution_count": 2,
   "metadata": {},
   "outputs": [
    {
     "data": {
      "image/png": "[encoded data removed]",
      "text/plain": [
       "<Figure size 432x288 with 1 Axes>"
      ]
     },
     "metadata": {
      "needs_background": "light"
     },
     "output_type": "display_data"
    }
   ],
   "source": [
    "N = 128   # サンプル数\n",
    "dx = 2*np.pi/N\n",
    "x = np.arange(0, 2*np.pi, dx)   # 0～2πまでのN個の配列\n",
    "\n",
    "w1 = 1    # 1つ目の周波数\n",
    "w2 = 5    # 2つ目の周波数\n",
    "\n",
    "a0 = 1    # 直流成分\n",
    "a1 = 3    # 1つ目の周波数\n",
    "a2 = 2    # 2つ目の周波数\n",
    "\n",
    "y = a0 + a1*np.sin(w1*x) + a2*np.sin(w2*x)   # 2つのsin信号の合成\n",
    "\n",
    "plt.plot(y);"
   ]
  },
  {
   "cell_type": "markdown",
   "metadata": {},
   "source": [
    "### フーリエ変換（１次元フーリエ変換）\n",
    "np.fft.fft()関数でできる"
   ]
  },
  {
   "cell_type": "code",
   "execution_count": 3,
   "metadata": {
    "scrolled": true
   },
   "outputs": [],
   "source": [
    "F = np.fft.fft(y)"
   ]
  },
  {
   "cell_type": "markdown",
   "metadata": {},
   "source": [
    "### 結果の表示\n",
    "\n",
    "0，1，5にピーク (＝直流と$\\sin(x)$, $\\sin(5x)$からなるという意味）"
   ]
  },
  {
   "cell_type": "code",
   "execution_count": 4,
   "metadata": {},
   "outputs": [
    {
     "data": {
      "image/png": "[encoded data removed]",
      "text/plain": [
       "<Figure size 432x288 with 1 Axes>"
      ]
     },
     "metadata": {
      "needs_background": "light"
     },
     "output_type": "display_data"
    }
   ],
   "source": [
    "# 振幅の計算\n",
    "amp = np.abs(F)/(N/2)\n",
    "amp[0] = amp[0]/2\n",
    "\n",
    "# 振幅スペクトルのプロット\n",
    "plt.plot(amp)\n",
    "\n",
    "# グラフのx軸の範囲を設定\n",
    "# この設定を加えると，低周波部分のみのグラフが描画\n",
    "plt.xlim(0,10);"
   ]
  },
  {
   "cell_type": "markdown",
   "metadata": {},
   "source": [
    "### 5.2 画像のフーリエ変換"
   ]
  },
  {
   "cell_type": "markdown",
   "metadata": {},
   "source": [
    "### Google colaboratoryで利用する場合の画像のアップロード\n",
    "変換対象の画像はなんでも良いです．"
   ]
  },
  {
   "cell_type": "code",
   "execution_count": 5,
   "metadata": {},
   "outputs": [
    {
     "ename": "ModuleNotFoundError",
     "evalue": "No module named 'google'",
     "output_type": "error",
     "traceback": [
      "\u001b[1;31m---------------------------------------------------------------------------\u001b[0m",
      "\u001b[1;31mModuleNotFoundError\u001b[0m                       Traceback (most recent call last)",
      "\u001b[1;32m<ipython-input-5-71e133504b20>\u001b[0m in \u001b[0;36m<module>\u001b[1;34m\u001b[0m\n\u001b[1;32m----> 1\u001b[1;33m \u001b[1;32mfrom\u001b[0m \u001b[0mgoogle\u001b[0m\u001b[1;33m.\u001b[0m\u001b[0mcolab\u001b[0m \u001b[1;32mimport\u001b[0m \u001b[0mfiles\u001b[0m\u001b[1;33m\u001b[0m\u001b[1;33m\u001b[0m\u001b[0m\n\u001b[0m\u001b[0;32m      2\u001b[0m \u001b[0muploaded_file\u001b[0m \u001b[1;33m=\u001b[0m \u001b[0mfiles\u001b[0m\u001b[1;33m.\u001b[0m\u001b[0mupload\u001b[0m\u001b[1;33m(\u001b[0m\u001b[1;33m)\u001b[0m\u001b[1;33m\u001b[0m\u001b[1;33m\u001b[0m\u001b[0m\n",
      "\u001b[1;31mModuleNotFoundError\u001b[0m: No module named 'google'"
     ]
    }
   ],
   "source": [
    "from google.colab import files\n",
    "uploaded_file = files.upload()"
   ]
  },
  {
   "cell_type": "markdown",
   "metadata": {},
   "source": [
    "アップロードした画像の読み込み"
   ]
  },
  {
   "cell_type": "code",
   "execution_count": null,
   "metadata": {},
   "outputs": [],
   "source": [
    "img = cv2.imread('img03.png', 0);  # モノクロ画像として読み込み\n",
    "plt.imshow(img, cmap='gray', vmin = 0, vmax = 255)"
   ]
  },
  {
   "cell_type": "markdown",
   "metadata": {},
   "source": [
    "### 画像のフーリエ変換\n",
    "`np.fft.fft2()` 関数を用いる"
   ]
  },
  {
   "cell_type": "code",
   "execution_count": null,
   "metadata": {},
   "outputs": [],
   "source": [
    "fimg = np.fft.fft2(img)"
   ]
  },
  {
   "cell_type": "markdown",
   "metadata": {},
   "source": [
    "### 振幅スペクトル描画の関数\n",
    "振幅スペクトル描画の前に，振幅スペクトルの計算などの前処理が必要なため，関数として定義しておく（詳細は気にしなくても良いです）\n",
    "\n",
    "plt_fft_result()関数:\n",
    "- fimg: np.fft.fft2()の結果\n",
    "- 出力: 振幅スペクトルのプロット"
   ]
  },
  {
   "cell_type": "code",
   "execution_count": null,
   "metadata": {},
   "outputs": [],
   "source": [
    "def plot_fft_result(fimg):\n",
    "    fimg[np.abs(fimg)<1] = 1             # 振幅スペクトル計算時のエラー回避\n",
    "    fimg_shift =  np.fft.fftshift(fimg)  # 直流成分を画像の左上から中心に移動    \n",
    "    mag = 20*np.log(np.abs(fimg_shift))  # 強度スペクトルの計算\n",
    "    \n",
    "    plt.imshow(mag, cmap = 'gray')\n",
    "    plt.title('Amplitude spectrum')"
   ]
  },
  {
   "cell_type": "markdown",
   "metadata": {},
   "source": [
    "実行すると，"
   ]
  },
  {
   "cell_type": "code",
   "execution_count": null,
   "metadata": {},
   "outputs": [],
   "source": [
    "plot_fft_result(fimg)"
   ]
  },
  {
   "cell_type": "markdown",
   "metadata": {},
   "source": [
    "### 振幅スペクトルから画像の復元（逆フーリエ変換）\n",
    "`np.fft.ifft()` 関数を利用する．"
   ]
  },
  {
   "cell_type": "code",
   "execution_count": null,
   "metadata": {},
   "outputs": [],
   "source": [
    "ifft_img = np.fft.ifft2(fimg)"
   ]
  },
  {
   "cell_type": "markdown",
   "metadata": {},
   "source": [
    "逆フーリエ変換の結果を描画する際には，実部(ifft_img.real)のみを指定する．"
   ]
  },
  {
   "cell_type": "code",
   "execution_count": null,
   "metadata": {},
   "outputs": [],
   "source": [
    "plt.imshow(ifft_img.real, cmap = 'gray')\n",
    "plt.title('Restored Image');"
   ]
  },
  {
   "cell_type": "markdown",
   "metadata": {},
   "source": [
    "### 5.3 周波数領域におけるフィルタリング\n",
    "上の振幅スペクトル画像に対して処理を行ってから逆フーリエ変換をすることで，周波数領域でのフィルタリングが実現できる．\n",
    "こちらも前処理などがあるため，関数を定義しておく．（詳細は気にしなくても良いです）\n",
    "\n",
    "freq_filtering()関数:\n",
    "- fimg: 振幅スペクトル画像（np.fft.fft2()の出力）\n",
    "- filter: フィルタ\n",
    "- 戻り値: フィルタと周波数フィルタリング結果の描画"
   ]
  },
  {
   "cell_type": "code",
   "execution_count": null,
   "metadata": {},
   "outputs": [],
   "source": [
    "def freq_filtering(fimg, filter):\n",
    "    fimg_shift = np.fft.fftshift(fimg)  # 直流成分を画像の左上から中心へと移動\n",
    "    fimg_shift = fimg_shift * filter    # スペクトル画像に対してfilterをかける\n",
    "    ifft_img = np.fft.ifft2(np.fft.ifftshift(fimg_shift)) # 逆フーリエ変換\n",
    "\n",
    "    fimg_shift[np.abs(fimg_shift)<1] = 1    # log計算時のエラー対策（log0にしない）\n",
    "    mag = 20*np.log(np.abs(fimg_shift))  # 強度スペクトルの計算\n",
    "    \n",
    "    plt.subplot(121)\n",
    "    plt.imshow(filter, cmap = 'gray')\n",
    "    plt.title('Filter')\n",
    "    plt.subplot(122)\n",
    "    plt.imshow(mag, cmap = 'gray')\n",
    "    plt.title('Filtered Spectrum')\n",
    "    plt.show()    \n",
    "    \n",
    "    return ifft_img.real # 実部のみが必要"
   ]
  },
  {
   "cell_type": "markdown",
   "metadata": {},
   "source": [
    "実行してみる"
   ]
  },
  {
   "cell_type": "code",
   "execution_count": null,
   "metadata": {},
   "outputs": [],
   "source": [
    "# フーリエ変換結果の配列サイズ（＝元画像サイズ）と画像中心の座標取得\n",
    "w, h = fimg.shape\n",
    "cx, cy = int(h/2), int(w/2)\n",
    "\n",
    "# ローパスフィルタの定義\n",
    "low_pass = np.zeros((w,h), dtype=np.uint8) # フーリエ変換結果と同じサイズの配列を作成（中身は全てゼロ） \n",
    "cv2.circle(low_pass, (cx,cy), 30, 1, -1)  # フィルタ画像に，(cx,cy)を中心とした半径30，明るさ1の円を描く)\n",
    "\n",
    "# ハイパスフィルタの定義\n",
    "high_pass = np.ones((w,h), dtype=np.uint8) # フーリエ変換結果と同じサイズの配列を作成（中身は全て１）\n",
    "cv2.circle(high_pass, (cx,cy), 30, 0, -1)  # フィルタ画像に，(cx,cy)を中心とした半径30，明るさ0の円を描く)\n",
    "\n",
    "# フィルタの処理\n",
    "filtered = freq_filtering(fimg, high_pass)\n",
    "\n",
    "# 逆フーリエ変換結果の描画\n",
    "plt.imshow(filtered, cmap = 'gray')\n",
    "plt.title('Restored Image');"
   ]
  },
  {
   "cell_type": "markdown",
   "metadata": {},
   "source": [
    "### 課題１\n",
    "以下のプログラムを変更し，\n",
    "1. 縦縞の画像\n",
    "2. 横縞の画像　　が出力されるようにしてください．\n",
    "\n",
    "修正が必要な部分は、\n",
    "- 変数Th（ローパス・ハイパスフィルタの周波数の閾値）の値\n",
    "- ローパスフィルタ・ハイパスフィルタのどちらを適用するか　　の２カ所です．"
   ]
  },
  {
   "cell_type": "code",
   "execution_count": null,
   "metadata": {},
   "outputs": [],
   "source": [
    "img2 = cv2.imread('img04.png', 0);  # モノクロ画像として読み込み\n",
    "plt.imshow(img2, cmap='gray', vmin = 0, vmax = 255)\n",
    "plt.show() # 画像表示\n",
    "\n",
    "fimg2 = np.fft.fft2(img2)\n",
    "\n",
    "# ローパス・ハイパスフィルタの閾値（この値を変化させてください）\n",
    "Th = 30\n",
    "\n",
    "# ローパスフィルタ・ハイパスフィルタの定義\n",
    "w2, h2 = fimg2.shape\n",
    "cx2, cy2 = int(h2/2), int(w2/2)\n",
    "\n",
    "low_pass2 = np.zeros((w2,h2), dtype=np.uint8)\n",
    "cv2.circle(low_pass2, (cx2,cy2), Th, 1, -1)\n",
    "\n",
    "high_pass2 = np.ones((w2,h2), dtype=np.uint8)\n",
    "cv2.circle(high_pass2, (cx2,cy2), Th, 0, -1)\n",
    "\n",
    "# フィルタの処理 (ローパス・ハイパスのいずれかを適用するようにコメントを外してください)\n",
    "#filtered2 = freq_filtering(fimg2, low_pass2) # ローパスフィルタを適用\n",
    "filtered2 = freq_filtering(fimg2, high_pass2) # ハイパスフィルタを適用\n",
    "\n",
    "# 逆フーリエ変換結果の描画\n",
    "plt.imshow(filtered2, cmap = 'gray', vmin=0, vmax=255)\n",
    "plt.title('Filtered Image');"
   ]
  },
  {
   "cell_type": "markdown",
   "metadata": {},
   "source": [
    "### 課題２\n",
    "以下の画像はどういった処理をした画像でしょうか？\n",
    "<img src=\"https://github.com/yamazoe/ImageMediaProcessing/blob/main/img05.png?raw=true\" width=20%>"
   ]
  },
  {
   "cell_type": "code",
   "execution_count": null,
   "metadata": {},
   "outputs": [],
   "source": []
  }
 ],
 "metadata": {
  "kernelspec": {
   "display_name": "Python 3",
   "language": "python",
   "name": "python3"
  },
  "language_info": {
   "codemirror_mode": {
    "name": "ipython",
    "version": 3
   },
   "file_extension": ".py",
   "mimetype": "text/x-python",
   "name": "python",
   "nbconvert_exporter": "python",
   "pygments_lexer": "ipython3",
   "version": "3.7.1"
  }
 },
 "nbformat": 4,
 "nbformat_minor": 2
}
